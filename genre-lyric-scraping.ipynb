{
 "cells": [
  {
   "cell_type": "code",
   "execution_count": 1,
   "id": "bee57d4d-1e36-4e35-ae2d-1321472c1ce2",
   "metadata": {},
   "outputs": [],
   "source": [
    "from bs4 import BeautifulSoup\n",
    "from lyricsgenius import Genius\n",
    "\n",
    "import pandas as pd\n",
    "import requests\n",
    "import re"
   ]
  },
  {
   "cell_type": "code",
   "execution_count": 2,
   "id": "361978a1-d538-46b8-a0bb-e61d8441c7da",
   "metadata": {},
   "outputs": [],
   "source": [
    "API = \"rr7YGMkarmjd_A6hUH4C_gNS46amqPOjoWUGqF1wU1UQkzwqGQ8_OHdl32h8WTrr\""
   ]
  },
  {
   "cell_type": "code",
   "execution_count": 3,
   "id": "e4668f99-d296-4519-a74b-27c36db89d6b",
   "metadata": {},
   "outputs": [],
   "source": [
    "genres = ['country', 'pop', 'r&b', 'rap', 'rock']"
   ]
  },
  {
   "cell_type": "code",
   "execution_count": 23,
   "id": "f6d449b8-9cbb-4c22-ada7-7141bcbb13fb",
   "metadata": {},
   "outputs": [],
   "source": [
    "genius = Genius(API, \n",
    "                skip_non_songs=True, \n",
    "                excluded_terms=[\"(Remix)\", \"(Live)\"], \n",
    "                remove_section_headers=True)\n",
    "\n",
    "genius.timeout = 15 \n",
    "genius.sleep_time = 40 "
   ]
  },
  {
   "cell_type": "code",
   "execution_count": 33,
   "id": "3086291a-b56f-46e2-9ec0-dae0a8ae06cf",
   "metadata": {},
   "outputs": [],
   "source": [
    "res = genius.tag('pop', page=1)"
   ]
  },
  {
   "cell_type": "code",
   "execution_count": 34,
   "id": "9d9ffc85-ae4d-4167-b22d-4c7630cb361c",
   "metadata": {},
   "outputs": [
    {
     "data": {
      "text/plain": [
       "{'hits': [{'url': 'https://genius.com/Luis-fonsi-and-daddy-yankee-despacito-remix-lyrics',\n",
       "   'title_with_artists': 'Despacito (Remix) by Luis Fonsi & Daddy Yankee (Ft. Justin Bieber)',\n",
       "   'title': 'Despacito (Remix)',\n",
       "   'artists': ['Luis Fonsi', 'Daddy Yankee'],\n",
       "   'featured_artists': ['Justin Bieber']},\n",
       "  {'url': 'https://genius.com/Ed-sheeran-shape-of-you-lyrics',\n",
       "   'title_with_artists': 'Shape of You by Ed Sheeran',\n",
       "   'title': 'Shape of You',\n",
       "   'artists': ['Ed Sheeran'],\n",
       "   'featured_artists': []},\n",
       "  {'url': 'https://genius.com/Drake-gods-plan-lyrics',\n",
       "   'title_with_artists': \"God's Plan by Drake\",\n",
       "   'title': \"God's Plan\",\n",
       "   'artists': ['Drake'],\n",
       "   'featured_artists': []},\n",
       "  {'url': 'https://genius.com/The-weeknd-the-hills-lyrics',\n",
       "   'title_with_artists': 'The Hills by The Weeknd',\n",
       "   'title': 'The Hills',\n",
       "   'artists': ['The Weeknd'],\n",
       "   'featured_artists': []},\n",
       "  {'url': 'https://genius.com/Ariana-grande-thank-u-next-lyrics',\n",
       "   'title_with_artists': '\\u200bthank u, next by Ariana Grande',\n",
       "   'title': '\\u200bthank u, next',\n",
       "   'artists': ['Ariana Grande'],\n",
       "   'featured_artists': []},\n",
       "  {'url': 'https://genius.com/Beyonce-drunk-in-love-lyrics',\n",
       "   'title_with_artists': 'Drunk in Love by Beyoncé (Ft. JAY-Z)',\n",
       "   'title': 'Drunk in Love',\n",
       "   'artists': ['Beyoncé'],\n",
       "   'featured_artists': ['JAY-Z']},\n",
       "  {'url': 'https://genius.com/Logic-1-800-273-8255-lyrics',\n",
       "   'title_with_artists': '1-800-273-8255 by Logic (Ft. Alessia Cara & Khalid)',\n",
       "   'title': '1-800-273-8255',\n",
       "   'artists': ['Logic'],\n",
       "   'featured_artists': ['Alessia Cara', 'Khalid']},\n",
       "  {'url': 'https://genius.com/Rihanna-work-lyrics',\n",
       "   'title_with_artists': 'Work by Rihanna (Ft. Drake)',\n",
       "   'title': 'Work',\n",
       "   'artists': ['Rihanna'],\n",
       "   'featured_artists': ['Drake']},\n",
       "  {'url': 'https://genius.com/Sam-smith-too-good-at-goodbyes-lyrics',\n",
       "   'title_with_artists': 'Too Good at Goodbyes by Sam Smith',\n",
       "   'title': 'Too Good at Goodbyes',\n",
       "   'artists': ['Sam Smith'],\n",
       "   'featured_artists': []},\n",
       "  {'url': 'https://genius.com/Xxxtentacion-sad-lyrics',\n",
       "   'title_with_artists': 'SAD! by XXXTENTACION',\n",
       "   'title': 'SAD!',\n",
       "   'artists': ['XXXTENTACION'],\n",
       "   'featured_artists': []},\n",
       "  {'url': 'https://genius.com/Drake-in-my-feelings-lyrics',\n",
       "   'title_with_artists': 'In My Feelings by Drake',\n",
       "   'title': 'In My Feelings',\n",
       "   'artists': ['Drake'],\n",
       "   'featured_artists': []},\n",
       "  {'url': 'https://genius.com/Ariana-grande-7-rings-lyrics',\n",
       "   'title_with_artists': '7 rings by Ariana Grande',\n",
       "   'title': '7 rings',\n",
       "   'artists': ['Ariana Grande'],\n",
       "   'featured_artists': []},\n",
       "  {'url': 'https://genius.com/Post-malone-rockstar-lyrics',\n",
       "   'title_with_artists': '\\u200b\\u200brockstar by Post Malone (Ft. 21 Savage)',\n",
       "   'title': '\\u200b\\u200brockstar',\n",
       "   'artists': ['Post Malone'],\n",
       "   'featured_artists': ['21 Savage']},\n",
       "  {'url': 'https://genius.com/Drake-hotline-bling-lyrics',\n",
       "   'title_with_artists': 'Hotline Bling by Drake',\n",
       "   'title': 'Hotline Bling',\n",
       "   'artists': ['Drake'],\n",
       "   'featured_artists': []},\n",
       "  {'url': 'https://genius.com/The-weeknd-starboy-lyrics',\n",
       "   'title_with_artists': 'Starboy by The Weeknd (Ft. Daft Punk)',\n",
       "   'title': 'Starboy',\n",
       "   'artists': ['The Weeknd'],\n",
       "   'featured_artists': ['Daft Punk']},\n",
       "  {'url': 'https://genius.com/The-chainsmokers-closer-lyrics',\n",
       "   'title_with_artists': 'Closer by The Chainsmokers (Ft. Halsey)',\n",
       "   'title': 'Closer',\n",
       "   'artists': ['The Chainsmokers'],\n",
       "   'featured_artists': ['Halsey']},\n",
       "  {'url': 'https://genius.com/Kendrick-lamar-swimming-pools-drank-lyrics',\n",
       "   'title_with_artists': 'Swimming Pools (Drank) by Kendrick Lamar',\n",
       "   'title': 'Swimming Pools (Drank)',\n",
       "   'artists': ['Kendrick Lamar'],\n",
       "   'featured_artists': []},\n",
       "  {'url': 'https://genius.com/Garrett-nash-i-hate-u-i-love-u-lyrics',\n",
       "   'title_with_artists': \"\\u200bi\\u200b hate u, i love u by Garrett Nash (Ft. Olivia O'Brien)\",\n",
       "   'title': '\\u200bi\\u200b hate u, i love u',\n",
       "   'artists': ['Garrett Nash'],\n",
       "   'featured_artists': [\"Olivia O'Brien\"]},\n",
       "  {'url': 'https://genius.com/Beyonce-formation-lyrics',\n",
       "   'title_with_artists': 'Formation by Beyoncé',\n",
       "   'title': 'Formation',\n",
       "   'artists': ['Beyoncé'],\n",
       "   'featured_artists': []},\n",
       "  {'url': 'https://genius.com/Drake-one-dance-lyrics',\n",
       "   'title_with_artists': 'One Dance by Drake (Ft. Kyla & Wizkid)',\n",
       "   'title': 'One Dance',\n",
       "   'artists': ['Drake'],\n",
       "   'featured_artists': ['Kyla', 'Wizkid']}],\n",
       " 'next_page': 2}"
      ]
     },
     "execution_count": 34,
     "metadata": {},
     "output_type": "execute_result"
    }
   ],
   "source": [
    "res"
   ]
  },
  {
   "cell_type": "code",
   "execution_count": 35,
   "id": "07447d9b-104b-4a02-b4f4-700732ded1a5",
   "metadata": {},
   "outputs": [
    {
     "data": {
      "text/plain": [
       "[{'url': 'https://genius.com/Luis-fonsi-and-daddy-yankee-despacito-remix-lyrics',\n",
       "  'title_with_artists': 'Despacito (Remix) by Luis Fonsi & Daddy Yankee (Ft. Justin Bieber)',\n",
       "  'title': 'Despacito (Remix)',\n",
       "  'artists': ['Luis Fonsi', 'Daddy Yankee'],\n",
       "  'featured_artists': ['Justin Bieber']},\n",
       " {'url': 'https://genius.com/Ed-sheeran-shape-of-you-lyrics',\n",
       "  'title_with_artists': 'Shape of You by Ed Sheeran',\n",
       "  'title': 'Shape of You',\n",
       "  'artists': ['Ed Sheeran'],\n",
       "  'featured_artists': []},\n",
       " {'url': 'https://genius.com/Drake-gods-plan-lyrics',\n",
       "  'title_with_artists': \"God's Plan by Drake\",\n",
       "  'title': \"God's Plan\",\n",
       "  'artists': ['Drake'],\n",
       "  'featured_artists': []}]"
      ]
     },
     "execution_count": 35,
     "metadata": {},
     "output_type": "execute_result"
    }
   ],
   "source": [
    "res['hits'][:3]"
   ]
  },
  {
   "cell_type": "code",
   "execution_count": 42,
   "id": "7292bc4c-1008-442b-85d4-50f9fe986953",
   "metadata": {},
   "outputs": [
    {
     "data": {
      "text/plain": [
       "'Luis Fonsi'"
      ]
     },
     "execution_count": 42,
     "metadata": {},
     "output_type": "execute_result"
    }
   ],
   "source": [
    "res['hits'][0]['artists'][0]"
   ]
  },
  {
   "cell_type": "code",
   "execution_count": 27,
   "id": "51ffcb44-9a1c-435c-85b4-437b062dc21b",
   "metadata": {},
   "outputs": [],
   "source": [
    "song_lyrics = genius.lyrics(song_url='https://genius.com/Lil-nas-x-old-town-road-remix-lyrics')"
   ]
  },
  {
   "cell_type": "code",
   "execution_count": 28,
   "id": "23042855-61e5-42bc-b6e6-3fc11877189f",
   "metadata": {},
   "outputs": [
    {
     "data": {
      "text/plain": [
       "\"Old Town Road (Remix) Lyrics\\nOh, oh-oh\\nOh\\n\\nYeah, I'm gonna take my horse to the old town road\\nI'm gonna ride 'til I can't no more\\nI'm gonna take my horse to the old town road\\nI'm gonna ride 'til I can't no more (Kio, Kio)\\nI got the horses in the back\\nHorse tack is attached\\nHat is matte black\\nGot the boots that's black to match\\nRidin' on a horse, ha\\nYou can whip your Porsche\\nI been in the valley\\nYou ain't been up off that porch, now\\n\\nCan't nobody tell me nothin'\\nYou can't tell me nothin'\\nCan't nobody tell me nothin'\\nYou can't tell me nothin'\\nRidin' on a tractor\\nLean all in my bladder\\nCheated on my baby\\nYou can go and ask her\\nMy life is a movie\\nBull ridin' and boobies\\nCowboy hat from Gucci\\nWrangler on my booty\\n\\nCan't nobody tell me nothin'\\nYou can't tell me nothin'\\nCan't nobody tell me nothin'\\nYou can't tell me nothin'\\n\\nYeah, I'm gonna take my horse to the old town road\\nI'm gonna ride 'til I can't no more\\nI'm gonna take my horse to the old town road\\nI'm gonna ride 'til I can't no more\\n\\nHat down, cross town, livin' like a rockstar\\nSpent a lot of money on my brand new guitar\\nBaby's got a habit: diamond rings and Fendi sports bras\\nRidin' down Rodeo in my Maserati sports car\\nGot no stress, I've been through all that\\nI'm like a Marlboro Man so I kick on back\\nWish I could roll on back to that old town road\\nI wanna ride 'til I can't no more\\nYeah, I'm gonna take my horse to the old town road\\nI'm gonna ride 'til I can't no more\\nI'm gonna take my horse to the old town road\\nI'm gonna ride 'til I can't no more335Embed\""
      ]
     },
     "execution_count": 28,
     "metadata": {},
     "output_type": "execute_result"
    }
   ],
   "source": [
    "song_lyrics"
   ]
  },
  {
   "cell_type": "code",
   "execution_count": 43,
   "id": "1c2a5d52-4944-4e23-8399-3a6083a0ab68",
   "metadata": {},
   "outputs": [],
   "source": [
    "lyrics = []\n",
    "song_dict = {'artist':[], 'title':[], 'lyrics':[], 'genre':[]}\n",
    "\n",
    "\n",
    "def get_lyrics(): # no arguments needed\n",
    "    genius = Genius(API,\n",
    "                    skip_non_songs=True, \n",
    "                    excluded_terms=[\"(Remix)\", \"(Live)\"],\n",
    "                    remove_section_headers=True) # token\n",
    "    genius.timeout = 15  #timeout\n",
    "    genius.sleep = 5\n",
    "    \n",
    "    page = 1\n",
    "    for genre in genres:\n",
    "        retries = 0\n",
    "        while retries < 2:\n",
    "            try:\n",
    "                res = genius.tag(genre, page=page)\n",
    "                for hit in res['hits'][:3]:\n",
    "                    url = hit['url']\n",
    "                    artist = hit['artists'][0]\n",
    "                    title = hit['title']\n",
    "\n",
    "                    song_lyrics = genius.lyrics(song_url=url)\n",
    "                    song_dict['artist'].append(artist)\n",
    "                    song_dict['title'].append(title)\n",
    "                    song_dict['lyrics'].append(song_lyrics)\n",
    "                    song_dict['genre'].append(genre)\n",
    "                               \n",
    "            except:\n",
    "                retries += 1\n",
    "                continue "
   ]
  },
  {
   "cell_type": "code",
   "execution_count": 44,
   "id": "65e21e23-b285-4393-8aa1-b65b88ea6b19",
   "metadata": {},
   "outputs": [],
   "source": [
    "get_lyrics()"
   ]
  },
  {
   "cell_type": "code",
   "execution_count": null,
   "id": "1a53a684-2908-4e08-a647-67b0fe66779f",
   "metadata": {},
   "outputs": [],
   "source": []
  }
 ],
 "metadata": {
  "kernelspec": {
   "display_name": "Python 3",
   "language": "python",
   "name": "python3"
  },
  "language_info": {
   "codemirror_mode": {
    "name": "ipython",
    "version": 3
   },
   "file_extension": ".py",
   "mimetype": "text/x-python",
   "name": "python",
   "nbconvert_exporter": "python",
   "pygments_lexer": "ipython3",
   "version": "3.8.8"
  }
 },
 "nbformat": 4,
 "nbformat_minor": 5
}
