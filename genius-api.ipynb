{
 "cells": [
  {
   "cell_type": "code",
   "execution_count": 1,
   "id": "4ec62be6-2786-4488-aca7-51c07bc6a9f6",
   "metadata": {},
   "outputs": [
    {
     "name": "stdout",
     "output_type": "stream",
     "text": [
      "\u001b[33m  WARNING: The script lyricsgenius is installed in '/Users/carloscalderon/.local/bin' which is not on PATH.\n",
      "  Consider adding this directory to PATH or, if you prefer to suppress this warning, use --no-warn-script-location.\u001b[0m\n",
      "Note: you may need to restart the kernel to use updated packages.\n"
     ]
    }
   ],
   "source": [
    "pip install lyricsgenius -q"
   ]
  },
  {
   "cell_type": "code",
   "execution_count": 10,
   "id": "5bebef16-58e6-4242-a00e-2f4a4eb53261",
   "metadata": {},
   "outputs": [],
   "source": [
    "from lyricsgenius import Genius"
   ]
  },
  {
   "cell_type": "code",
   "execution_count": 11,
   "id": "b561ad05-f4b5-41fa-b119-28dca8cc138a",
   "metadata": {},
   "outputs": [],
   "source": [
    "token = \"rr7YGMkarmjd_A6hUH4C_gNS46amqPOjoWUGqF1wU1UQkzwqGQ8_OHdl32h8WTrr\"\n",
    "genius = Genius(token, \n",
    "                skip_non_songs=True, \n",
    "                excluded_terms=[\"(Remix)\", \"(Live)\"], \n",
    "                remove_section_headers=True)"
   ]
  },
  {
   "cell_type": "code",
   "execution_count": 12,
   "id": "52d63fd3-5626-4cd5-a535-5e8de1a89fd4",
   "metadata": {},
   "outputs": [
    {
     "name": "stdout",
     "output_type": "stream",
     "text": [
      "Searching for songs by Harry Styles...\n",
      "\n",
      "Song 1: \"Sign of the Times\"\n",
      "Song 2: \"Watermelon Sugar\"\n",
      "\n",
      "Reached user-specified song limit (2).\n",
      "Done. Found 2 songs.\n"
     ]
    },
    {
     "data": {
      "text/plain": [
       "[\"Sign of the Times Lyrics\\nJust stop your crying, it's a sign of the times\\nWelcome to the final show\\nHope you're wearing your best clothes\\nYou can't bribe the door on your way to the sky\\nYou look pretty good down here\\nBut you ain't really good\\n\\nWe never learn, we been here before\\nWhy are we always stuck and running from\\nThe bullets? The bullets?\\nWe never learn, we been here before\\nWhy are we always stuck and running from\\nYour bullets? Your bullets?\\n\\nJust stop your crying, it's a sign of the times\\nWe gotta get away from here\\nWe gotta get away from here\\nJust stop your crying, it'll be alright\\nThey told me that the end is near\\nWe gotta get away from here\\n\\nJust stop your crying, have the time of your life\\nBreaking through the atmosphere\\nAnd things are pretty good from here\\nRemember everything will be alright\\nWe can meet again somewhere\\nSomewhere far away from here\\nWe never learn, we been here before\\nWhy are we always stuck and running from\\nThe bullets? The bullets?\\nWe never learn, we been here before\\nWhy are we always stuck and running from\\nThe bullets? The bullets?\\n\\nJust stop your crying, it's a sign of the times\\nWe gotta get away from here\\nWe gotta get away from here\\nStop your crying, baby, it'll be alright\\nThey told me that the end is near\\nWe gotta get away from here\\n\\nWe never learn, we been here before\\nWhy are we always stuck and running from\\nThe bullets? The bullets?\\nWe never learn, we've been here before\\nWhy are we always stuck and running from\\nThe bullets? Your bullets?\\n\\nWe don't talk enough, we should open up\\nBefore it's all too much\\nWill we ever learn? We've been here before\\nIt's just what we know\\nStop your crying, baby, it's a sign of the times\\nWe gotta get away, we got to get away\\nWe got to get away, we got to get away\\nWe got to get away\\nWe got to, we got to, away\\nWe got to, we got to, away\\nWe got to, we got to, away347Embed\",\n",
       " \"Watermelon Sugar Lyrics\\nTastes like strawberries on a summer evenin'\\nAnd it sounds just like a song\\nI want more\\u2005berries\\u2005and that summer\\u2005feelin'\\nIt's so wonderful and warm\\n\\nBreathe me\\u2005in, breathe me out\\nI don't know if I could ever go without\\nI'm just thinking out loud\\nI don't know if I could ever go without\\n\\nWatermelon sugar high\\nWatermelon sugar high\\nWatermelon sugar high\\nWatermelon sugar high\\nWatermelon sugar\\n\\nStrawberries on a summer evenin'\\nBaby, you're the end of June\\nI want your belly and that summer feelin'\\nGetting washed away in you\\n\\nBreathe me in, breathe me out\\nI don't know if I could ever go without\\nWatermelon sugar high\\nWatermelon sugar high\\nWatermelon sugar high\\nWatermelon sugar high\\nWatermelon sugar high\\nWatermelon sugar high\\nWatermelon sugar high\\nWatermelon sugar high\\n\\nI just wanna taste it, I just wanna taste it\\nWatermelon sugar high\\n\\nTastes like strawberries on a summer evenin'\\nAnd it sounds just like a song\\nI want your belly and that summer feelin'\\nI don't know if I could ever go without\\n\\nWatermelon sugar high\\nWatermelon sugar high\\nWatermelon sugar high (Sugar)\\nWatermelon sugar high (Sugar)\\nWatermelon sugar high\\nWatermelon sugar high\\nWatermelon sugar high\\nWatermelon sugar high\\nI just wanna taste it, I just wanna taste it (Eh-eh-eh)\\nWatermelon sugar high\\nI just wanna taste it, I just wanna taste it (Ooh, yeah)\\nWatermelon sugar high\\nWatermelon sugar113Embed\"]"
      ]
     },
     "execution_count": 12,
     "metadata": {},
     "output_type": "execute_result"
    }
   ],
   "source": [
    "# Small example\n",
    "harry_songs = genius.search_artist(\"Harry Styles\", max_songs=2, sort=\"popularity\").songs\n",
    "train_data = []\n",
    "for song in harry_songs:\n",
    "    train_data.append(song.lyrics)\n",
    "train_data    "
   ]
  },
  {
   "cell_type": "code",
   "execution_count": 4,
   "id": "bcbe83e4-07df-44a5-b5c7-b4173bae3007",
   "metadata": {
    "tags": []
   },
   "outputs": [
    {
     "name": "stdout",
     "output_type": "stream",
     "text": [
      "Searching for songs by Harry Styles...\n",
      "\n",
      "Song 1: \"Sign of the Times\"\n",
      "Song 2: \"Watermelon Sugar\"\n",
      "\n",
      "Reached user-specified song limit (2).\n",
      "Done. Found 2 songs.\n"
     ]
    }
   ],
   "source": [
    "artist_lst = []\n",
    "num_songs = 5\n",
    "data = []\n",
    "for artist in artist_lst:\n",
    "    songs = genius.search_artist(artist, max_songs=num_songs, sort=\"popularity\").songs\n",
    "    data.append([song.lyrics for song in songs])"
   ]
  },
  {
   "cell_type": "code",
   "execution_count": 7,
   "id": "65dffd9b-42a6-4d9d-a420-4e69468c6e93",
   "metadata": {},
   "outputs": [],
   "source": []
  }
 ],
 "metadata": {
  "kernelspec": {
   "display_name": "Python 3",
   "language": "python",
   "name": "python3"
  },
  "language_info": {
   "codemirror_mode": {
    "name": "ipython",
    "version": 3
   },
   "file_extension": ".py",
   "mimetype": "text/x-python",
   "name": "python",
   "nbconvert_exporter": "python",
   "pygments_lexer": "ipython3",
   "version": "3.8.8"
  }
 },
 "nbformat": 4,
 "nbformat_minor": 5
}
