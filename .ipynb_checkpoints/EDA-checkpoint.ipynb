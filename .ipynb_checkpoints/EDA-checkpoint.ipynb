{
 "cells": [
  {
   "cell_type": "code",
   "execution_count": 1,
   "id": "4b58f196",
   "metadata": {},
   "outputs": [],
   "source": [
    "import pandas as pd\n",
    "import numpy as np\n",
    "import nltk\n",
    "import re"
   ]
  },
  {
   "cell_type": "code",
   "execution_count": 2,
   "id": "7be09010",
   "metadata": {},
   "outputs": [
    {
     "name": "stderr",
     "output_type": "stream",
     "text": [
      "[nltk_data] Downloading package punkt to /home/ccal0507/nltk_data...\n",
      "[nltk_data]   Unzipping tokenizers/punkt.zip.\n"
     ]
    },
    {
     "data": {
      "text/plain": [
       "True"
      ]
     },
     "execution_count": 2,
     "metadata": {},
     "output_type": "execute_result"
    }
   ],
   "source": [
    "nltk.download('punkt')"
   ]
  },
  {
   "cell_type": "code",
   "execution_count": 3,
   "id": "770063fa",
   "metadata": {},
   "outputs": [
    {
     "data": {
      "text/html": [
       "<div>\n",
       "<style scoped>\n",
       "    .dataframe tbody tr th:only-of-type {\n",
       "        vertical-align: middle;\n",
       "    }\n",
       "\n",
       "    .dataframe tbody tr th {\n",
       "        vertical-align: top;\n",
       "    }\n",
       "\n",
       "    .dataframe thead th {\n",
       "        text-align: right;\n",
       "    }\n",
       "</style>\n",
       "<table border=\"1\" class=\"dataframe\">\n",
       "  <thead>\n",
       "    <tr style=\"text-align: right;\">\n",
       "      <th></th>\n",
       "      <th>artist</th>\n",
       "      <th>title</th>\n",
       "      <th>lyrics</th>\n",
       "      <th>description</th>\n",
       "      <th>release date</th>\n",
       "    </tr>\n",
       "  </thead>\n",
       "  <tbody>\n",
       "    <tr>\n",
       "      <th>0</th>\n",
       "      <td>Ray Charles</td>\n",
       "      <td>Hit the Road Jack</td>\n",
       "      <td>Hit the Road Jack Lyrics\\nHit the road Jack, a...</td>\n",
       "      <td>This tongue and cheek verbal duel of a couple ...</td>\n",
       "      <td>August 1961</td>\n",
       "    </tr>\n",
       "    <tr>\n",
       "      <th>1</th>\n",
       "      <td>Ray Charles</td>\n",
       "      <td>Georgia On My Mind</td>\n",
       "      <td>Georgia On My Mind Lyrics\\nGeorgia\\nGeorgia\\nT...</td>\n",
       "      <td>Written by Hoagy Carmichael and Stuart Gorrell...</td>\n",
       "      <td>September 1960</td>\n",
       "    </tr>\n",
       "    <tr>\n",
       "      <th>2</th>\n",
       "      <td>Ray Charles</td>\n",
       "      <td>I’ve Got a Woman</td>\n",
       "      <td>I’ve Got a Woman Lyrics\\nWell\\n\\nI got a woman...</td>\n",
       "      <td>Ray Charles released “I’ve Got a Woman” as a s...</td>\n",
       "      <td>December 1954</td>\n",
       "    </tr>\n",
       "    <tr>\n",
       "      <th>3</th>\n",
       "      <td>Ray Charles</td>\n",
       "      <td>I Can’t Stop Loving You</td>\n",
       "      <td>I Can’t Stop Loving You Lyrics\\n(I can't stop ...</td>\n",
       "      <td>?</td>\n",
       "      <td>1962</td>\n",
       "    </tr>\n",
       "    <tr>\n",
       "      <th>4</th>\n",
       "      <td>Ken Nordine</td>\n",
       "      <td>Yellow</td>\n",
       "      <td>Yellow LyricsIn the beginning--\\nOh, long befo...</td>\n",
       "      <td>?</td>\n",
       "      <td>January 1, 1966</td>\n",
       "    </tr>\n",
       "  </tbody>\n",
       "</table>\n",
       "</div>"
      ],
      "text/plain": [
       "        artist                    title  \\\n",
       "0  Ray Charles        Hit the Road Jack   \n",
       "1  Ray Charles       Georgia On My Mind   \n",
       "2  Ray Charles         I’ve Got a Woman   \n",
       "3  Ray Charles  I Can’t Stop Loving You   \n",
       "4  Ken Nordine                   Yellow   \n",
       "\n",
       "                                              lyrics  \\\n",
       "0  Hit the Road Jack Lyrics\\nHit the road Jack, a...   \n",
       "1  Georgia On My Mind Lyrics\\nGeorgia\\nGeorgia\\nT...   \n",
       "2  I’ve Got a Woman Lyrics\\nWell\\n\\nI got a woman...   \n",
       "3  I Can’t Stop Loving You Lyrics\\n(I can't stop ...   \n",
       "4  Yellow LyricsIn the beginning--\\nOh, long befo...   \n",
       "\n",
       "                                         description     release date  \n",
       "0  This tongue and cheek verbal duel of a couple ...      August 1961  \n",
       "1  Written by Hoagy Carmichael and Stuart Gorrell...   September 1960  \n",
       "2  Ray Charles released “I’ve Got a Woman” as a s...    December 1954  \n",
       "3                                                  ?             1962  \n",
       "4                                                  ?  January 1, 1966  "
      ]
     },
     "execution_count": 3,
     "metadata": {},
     "output_type": "execute_result"
    }
   ],
   "source": [
    "data = pd.read_csv('lyrics.csv')\n",
    "data.head()"
   ]
  },
  {
   "cell_type": "code",
   "execution_count": 4,
   "id": "d9662926",
   "metadata": {},
   "outputs": [
    {
     "name": "stdout",
     "output_type": "stream",
     "text": [
      "<class 'pandas.core.frame.DataFrame'>\n",
      "RangeIndex: 385 entries, 0 to 384\n",
      "Data columns (total 5 columns):\n",
      " #   Column        Non-Null Count  Dtype \n",
      "---  ------        --------------  ----- \n",
      " 0   artist        385 non-null    object\n",
      " 1   title         385 non-null    object\n",
      " 2   lyrics        382 non-null    object\n",
      " 3   description   385 non-null    object\n",
      " 4   release date  376 non-null    object\n",
      "dtypes: object(5)\n",
      "memory usage: 15.2+ KB\n"
     ]
    }
   ],
   "source": [
    "data.info()"
   ]
  },
  {
   "cell_type": "code",
   "execution_count": 5,
   "id": "222a73f5",
   "metadata": {},
   "outputs": [
    {
     "data": {
      "text/html": [
       "<div>\n",
       "<style scoped>\n",
       "    .dataframe tbody tr th:only-of-type {\n",
       "        vertical-align: middle;\n",
       "    }\n",
       "\n",
       "    .dataframe tbody tr th {\n",
       "        vertical-align: top;\n",
       "    }\n",
       "\n",
       "    .dataframe thead th {\n",
       "        text-align: right;\n",
       "    }\n",
       "</style>\n",
       "<table border=\"1\" class=\"dataframe\">\n",
       "  <thead>\n",
       "    <tr style=\"text-align: right;\">\n",
       "      <th></th>\n",
       "      <th>artist</th>\n",
       "      <th>title</th>\n",
       "      <th>lyrics</th>\n",
       "      <th>description</th>\n",
       "      <th>release date</th>\n",
       "    </tr>\n",
       "  </thead>\n",
       "  <tbody>\n",
       "    <tr>\n",
       "      <th>0</th>\n",
       "      <td>Ray Charles</td>\n",
       "      <td>Hit the Road Jack</td>\n",
       "      <td>Hit the Road Jack Lyrics\\nHit the road Jack, a...</td>\n",
       "      <td>This tongue and cheek verbal duel of a couple ...</td>\n",
       "      <td>August 1961</td>\n",
       "    </tr>\n",
       "    <tr>\n",
       "      <th>1</th>\n",
       "      <td>Ray Charles</td>\n",
       "      <td>Georgia On My Mind</td>\n",
       "      <td>Georgia On My Mind Lyrics\\nGeorgia\\nGeorgia\\nT...</td>\n",
       "      <td>Written by Hoagy Carmichael and Stuart Gorrell...</td>\n",
       "      <td>September 1960</td>\n",
       "    </tr>\n",
       "    <tr>\n",
       "      <th>2</th>\n",
       "      <td>Ray Charles</td>\n",
       "      <td>I’ve Got a Woman</td>\n",
       "      <td>I’ve Got a Woman Lyrics\\nWell\\n\\nI got a woman...</td>\n",
       "      <td>Ray Charles released “I’ve Got a Woman” as a s...</td>\n",
       "      <td>December 1954</td>\n",
       "    </tr>\n",
       "    <tr>\n",
       "      <th>8</th>\n",
       "      <td>Ghetto Brothers</td>\n",
       "      <td>Girl From The Mountain</td>\n",
       "      <td>Girl From The Mountain Lyrics\\nNa-na-na na-na-...</td>\n",
       "      <td>The only track on Power-Fuerza not written by ...</td>\n",
       "      <td>January 1, 1971</td>\n",
       "    </tr>\n",
       "    <tr>\n",
       "      <th>11</th>\n",
       "      <td>Ghetto Brothers</td>\n",
       "      <td>Viva Puerto Rico Libre</td>\n",
       "      <td>Viva Puerto Rico Libre LyricsBuenas\\nAmados he...</td>\n",
       "      <td>Benji Melendez’s family moved from Puerto Rico...</td>\n",
       "      <td>January 1, 1972</td>\n",
       "    </tr>\n",
       "  </tbody>\n",
       "</table>\n",
       "</div>"
      ],
      "text/plain": [
       "             artist                   title  \\\n",
       "0       Ray Charles       Hit the Road Jack   \n",
       "1       Ray Charles      Georgia On My Mind   \n",
       "2       Ray Charles        I’ve Got a Woman   \n",
       "8   Ghetto Brothers  Girl From The Mountain   \n",
       "11  Ghetto Brothers  Viva Puerto Rico Libre   \n",
       "\n",
       "                                               lyrics  \\\n",
       "0   Hit the Road Jack Lyrics\\nHit the road Jack, a...   \n",
       "1   Georgia On My Mind Lyrics\\nGeorgia\\nGeorgia\\nT...   \n",
       "2   I’ve Got a Woman Lyrics\\nWell\\n\\nI got a woman...   \n",
       "8   Girl From The Mountain Lyrics\\nNa-na-na na-na-...   \n",
       "11  Viva Puerto Rico Libre LyricsBuenas\\nAmados he...   \n",
       "\n",
       "                                          description     release date  \n",
       "0   This tongue and cheek verbal duel of a couple ...      August 1961  \n",
       "1   Written by Hoagy Carmichael and Stuart Gorrell...   September 1960  \n",
       "2   Ray Charles released “I’ve Got a Woman” as a s...    December 1954  \n",
       "8   The only track on Power-Fuerza not written by ...  January 1, 1971  \n",
       "11  Benji Melendez’s family moved from Puerto Rico...  January 1, 1972  "
      ]
     },
     "execution_count": 5,
     "metadata": {},
     "output_type": "execute_result"
    }
   ],
   "source": [
    "df = data.query(\"description != '?'\")\n",
    "df.head()"
   ]
  },
  {
   "cell_type": "code",
   "execution_count": 6,
   "id": "67e843fa",
   "metadata": {},
   "outputs": [
    {
     "name": "stdout",
     "output_type": "stream",
     "text": [
      "<class 'pandas.core.frame.DataFrame'>\n",
      "Int64Index: 318 entries, 0 to 384\n",
      "Data columns (total 5 columns):\n",
      " #   Column        Non-Null Count  Dtype \n",
      "---  ------        --------------  ----- \n",
      " 0   artist        318 non-null    object\n",
      " 1   title         318 non-null    object\n",
      " 2   lyrics        316 non-null    object\n",
      " 3   description   318 non-null    object\n",
      " 4   release date  315 non-null    object\n",
      "dtypes: object(5)\n",
      "memory usage: 14.9+ KB\n"
     ]
    }
   ],
   "source": [
    "df.info()"
   ]
  },
  {
   "cell_type": "markdown",
   "id": "a7a94951",
   "metadata": {},
   "source": [
    "# Data Cleaning"
   ]
  },
  {
   "cell_type": "code",
   "execution_count": 7,
   "id": "bd42b257",
   "metadata": {},
   "outputs": [
    {
     "data": {
      "text/plain": [
       "array([\"Hit the Road Jack Lyrics\\nHit the road Jack, and don'cha come back\\nNo more, no more, no more, no more\\nHit the road Jack, and don'cha come back no more\\nWhat'd you say?\\nHit the road Jack, and don'cha come back\\nNo more, no more, no more, no more\\nHit the road Jack, and don'cha come back no more\\nOld woman old woman, oh you treat me so mean\\nYou're the meanest old woman that I've ever seen\\nI guess if you say so\\nI'll have to pack my things and go (that's right)\\nHit the road Jack, and don'cha come back\\nNo more, no more, no more, no more\\nHit the road Jack, and don'cha come back no more\\nWhat'd you say?\\nHit the road Jack, and don'cha come back\\nNo more, no more, no more, no more\\nHit the road Jack, and don'cha come back no more\\nNow baby, listen baby, don't you treat me this way\\nCause I'll be back on my feet some day\\nDon't care if you do, cause it's understood\\nYou ain't got no money, you just a no good\\nWell I guess if you say so\\nI'll have to pack my things and go (that's right)\\nHit the road Jack, and don'cha come back\\nNo more, no more, no more, no more\\nHit the road Jack, and don'cha come back no more\\nWhat'd you say?\\nHit the road Jack, and don'cha come back\\nNo more, no more, no more, no more\\nHit the road Jack, and don'cha come back no more\\nWell (Don'cha come back no more)\\nUh, what'd you say? (Don'cha come back no more)\\nI didn't understand you (Don'cha come back no more)\\nYou can't mean that (Don'cha come back no more)\\nOh, now baby please (Don'cha come back no more)\\nWhat you're trying to do to me (Don'cha come back no more)14Embed\",\n",
       "       'Georgia On My Mind Lyrics\\nGeorgia\\nGeorgia\\nThe whole day through\\n(The whole day through)\\nJust an old, sweet song\\nKeeps Georgia on my mind\\n(Georgia on my mind)\\n\\nI said a-Georgia\\nGeorgia\\nA song of you\\n(A song of you)\\nComes as sweet and clear\\nAs moonlight through the pines\\n\\nOther arms a-reach out to me\\nOther eyes smile tenderly\\nStill, in the peaceful dreams, I see\\nThe road leads back to you\\n\\nI said, Georgia, oh, Georgia\\nNo peace I find (No peace I find)\\nJust an old, sweet song\\nKeeps Georgia on my mind\\n(Georgia on my mind, oh)\\nOther arms a-reach out to me\\nOther eyes smile tenderly\\nStill, in peaceful dreams, I see\\nThe road leads back to you\\n\\nOh, oh\\nGeorgia\\nGeorgia\\nNo peace, no peace I find\\nJust an old, sweet song\\nKeeps Georgia on my mind\\n(Georgia on my mind)\\n\\nI said, just an old, sweet song\\nKeeps Georgia on my mind10Embed'],\n",
       "      dtype=object)"
      ]
     },
     "execution_count": 7,
     "metadata": {},
     "output_type": "execute_result"
    }
   ],
   "source": [
    "df['lyrics'][:2].values"
   ]
  },
  {
   "cell_type": "code",
   "execution_count": 9,
   "id": "bee6e72f",
   "metadata": {},
   "outputs": [],
   "source": [
    "test_str = df['lyrics'][0].lower()"
   ]
  },
  {
   "cell_type": "code",
   "execution_count": 10,
   "id": "5f034167",
   "metadata": {},
   "outputs": [
    {
     "data": {
      "text/plain": [
       "\"hit the road jack lyrics\\nhit the road jack, and don'cha come back\\nno more, no more, no more, no more\\nhit the road jack, and don'cha come back no more\\nwhat'd you say?\\nhit the road jack, and don'cha come back\\nno more, no more, no more, no more\\nhit the road jack, and don'cha come back no more\\nold woman old woman, oh you treat me so mean\\nyou're the meanest old woman that i've ever seen\\ni guess if you say so\\ni'll have to pack my things and go (that's right)\\nhit the road jack, and don'cha come back\\nno more, no more, no more, no more\\nhit the road jack, and don'cha come back no more\\nwhat'd you say?\\nhit the road jack, and don'cha come back\\nno more, no more, no more, no more\\nhit the road jack, and don'cha come back no more\\nnow baby, listen baby, don't you treat me this way\\ncause i'll be back on my feet some day\\ndon't care if you do, cause it's understood\\nyou ain't got no money, you just a no good\\nwell i guess if you say so\\ni'll have to pack my things and go (that's right)\\nhit the road jack, and don'cha come back\\nno more, no more, no more, no more\\nhit the road jack, and don'cha come back no more\\nwhat'd you say?\\nhit the road jack, and don'cha come back\\nno more, no more, no more, no more\\nhit the road jack, and don'cha come back no more\\nwell (don'cha come back no more)\\nuh, what'd you say? (don'cha come back no more)\\ni didn't understand you (don'cha come back no more)\\nyou can't mean that (don'cha come back no more)\\noh, now baby please (don'cha come back no more)\\nwhat you're trying to do to me (don'cha come back no more)14embed\""
      ]
     },
     "execution_count": 10,
     "metadata": {},
     "output_type": "execute_result"
    }
   ],
   "source": [
    "test_str"
   ]
  },
  {
   "cell_type": "code",
   "execution_count": 12,
   "id": "fa7daed5",
   "metadata": {},
   "outputs": [],
   "source": [
    "from nltk.tokenize import word_tokenize"
   ]
  },
  {
   "cell_type": "code",
   "execution_count": 25,
   "id": "88243800",
   "metadata": {},
   "outputs": [
    {
     "data": {
      "text/plain": [
       "array(['hit', 'the', 'road', 'jack', 'lyrics', 'hit', 'the', 'road',\n",
       "       'jack', ',', 'and', \"don'cha\", 'come', 'back', 'no', 'more', ',',\n",
       "       'no', 'more', ',', 'no', 'more', ',', 'no', 'more', 'hit', 'the',\n",
       "       'road', 'jack', ',', 'and', \"don'cha\", 'come', 'back', 'no',\n",
       "       'more', 'what', \"'d\", 'you', 'say', '?', 'hit', 'the', 'road',\n",
       "       'jack', ',', 'and', \"don'cha\", 'come', 'back', 'no', 'more', ',',\n",
       "       'no', 'more', ',', 'no', 'more', ',', 'no', 'more', 'hit', 'the',\n",
       "       'road', 'jack', ',', 'and', \"don'cha\", 'come', 'back', 'no',\n",
       "       'more', 'old', 'woman', 'old', 'woman', ',', 'oh', 'you', 'treat',\n",
       "       'me', 'so', 'mean', 'you', \"'re\", 'the', 'meanest', 'old', 'woman',\n",
       "       'that', 'i', \"'ve\", 'ever', 'seen', 'i', 'guess', 'if', 'you',\n",
       "       'say', 'so', 'i', \"'ll\", 'have', 'to', 'pack', 'my', 'things',\n",
       "       'and', 'go', '(', 'that', \"'s\", 'right', ')', 'hit', 'the', 'road',\n",
       "       'jack', ',', 'and', \"don'cha\", 'come', 'back', 'no', 'more', ',',\n",
       "       'no', 'more', ',', 'no', 'more', ',', 'no', 'more', 'hit', 'the',\n",
       "       'road', 'jack', ',', 'and', \"don'cha\", 'come', 'back', 'no',\n",
       "       'more', 'what', \"'d\", 'you', 'say', '?', 'hit', 'the', 'road',\n",
       "       'jack', ',', 'and', \"don'cha\", 'come', 'back', 'no', 'more', ',',\n",
       "       'no', 'more', ',', 'no', 'more', ',', 'no', 'more', 'hit', 'the',\n",
       "       'road', 'jack', ',', 'and', \"don'cha\", 'come', 'back', 'no',\n",
       "       'more', 'now', 'baby', ',', 'listen', 'baby', ',', 'do', \"n't\",\n",
       "       'you', 'treat', 'me', 'this', 'way', 'cause', 'i', \"'ll\", 'be',\n",
       "       'back', 'on', 'my', 'feet', 'some', 'day', 'do', \"n't\", 'care',\n",
       "       'if', 'you', 'do', ',', 'cause', 'it', \"'s\", 'understood', 'you',\n",
       "       'ai', \"n't\", 'got', 'no', 'money', ',', 'you', 'just', 'a', 'no',\n",
       "       'good', 'well', 'i', 'guess', 'if', 'you', 'say', 'so', 'i', \"'ll\",\n",
       "       'have', 'to', 'pack', 'my', 'things', 'and', 'go', '(', 'that',\n",
       "       \"'s\", 'right', ')', 'hit', 'the', 'road', 'jack', ',', 'and',\n",
       "       \"don'cha\", 'come', 'back', 'no', 'more', ',', 'no', 'more', ',',\n",
       "       'no', 'more', ',', 'no', 'more', 'hit', 'the', 'road', 'jack', ',',\n",
       "       'and', \"don'cha\", 'come', 'back', 'no', 'more', 'what', \"'d\",\n",
       "       'you', 'say', '?', 'hit', 'the', 'road', 'jack', ',', 'and',\n",
       "       \"don'cha\", 'come', 'back', 'no', 'more', ',', 'no', 'more', ',',\n",
       "       'no', 'more', ',', 'no', 'more', 'hit', 'the', 'road', 'jack', ',',\n",
       "       'and', \"don'cha\", 'come', 'back', 'no', 'more', 'well', '(',\n",
       "       \"don'cha\", 'come', 'back', 'no', 'more', ')', 'uh', ',', 'what',\n",
       "       \"'d\", 'you', 'say', '?', '(', \"don'cha\", 'come', 'back', 'no',\n",
       "       'more', ')', 'i', 'did', \"n't\", 'understand', 'you', '(',\n",
       "       \"don'cha\", 'come', 'back', 'no', 'more', ')', 'you', 'ca', \"n't\",\n",
       "       'mean', 'that', '(', \"don'cha\", 'come', 'back', 'no', 'more', ')',\n",
       "       'oh', ',', 'now', 'baby', 'please', '(', \"don'cha\", 'come', 'back',\n",
       "       'no', 'more', ')', 'what', 'you', \"'re\", 'trying', 'to', 'do',\n",
       "       'to', 'me', '(', \"don'cha\", 'come', 'back', 'no', 'more', ')',\n",
       "       '14embed'], dtype='<U10')"
      ]
     },
     "execution_count": 25,
     "metadata": {},
     "output_type": "execute_result"
    }
   ],
   "source": [
    "test_str_tokenized = np.array(word_tokenize(test_str))\n",
    "test_str_tokenized"
   ]
  },
  {
   "cell_type": "code",
   "execution_count": 38,
   "id": "a9d59a08",
   "metadata": {},
   "outputs": [
    {
     "data": {
      "text/plain": [
       "4"
      ]
     },
     "execution_count": 38,
     "metadata": {},
     "output_type": "execute_result"
    }
   ],
   "source": [
    "index = np.where(test_str_tokenized == 'lyrics')[0][0]\n",
    "index"
   ]
  },
  {
   "cell_type": "code",
   "execution_count": null,
   "id": "8b1ae057",
   "metadata": {},
   "outputs": [],
   "source": [
    "embed"
   ]
  },
  {
   "cell_type": "code",
   "execution_count": 42,
   "id": "381420a3",
   "metadata": {},
   "outputs": [
    {
     "data": {
      "text/plain": [
       "array(['hit', 'the', 'road', 'jack', ',', 'and', \"don'cha\", 'come',\n",
       "       'back', 'no', 'more', ',', 'no', 'more', ',', 'no', 'more', ',',\n",
       "       'no', 'more', 'hit', 'the', 'road', 'jack', ',', 'and', \"don'cha\",\n",
       "       'come', 'back', 'no', 'more', 'what', \"'d\", 'you', 'say', '?',\n",
       "       'hit', 'the', 'road', 'jack', ',', 'and', \"don'cha\", 'come',\n",
       "       'back', 'no', 'more', ',', 'no', 'more', ',', 'no', 'more', ',',\n",
       "       'no', 'more', 'hit', 'the', 'road', 'jack', ',', 'and', \"don'cha\",\n",
       "       'come', 'back', 'no', 'more', 'old', 'woman', 'old', 'woman', ',',\n",
       "       'oh', 'you', 'treat', 'me', 'so', 'mean', 'you', \"'re\", 'the',\n",
       "       'meanest', 'old', 'woman', 'that', 'i', \"'ve\", 'ever', 'seen', 'i',\n",
       "       'guess', 'if', 'you', 'say', 'so', 'i', \"'ll\", 'have', 'to',\n",
       "       'pack', 'my', 'things', 'and', 'go', '(', 'that', \"'s\", 'right',\n",
       "       ')', 'hit', 'the', 'road', 'jack', ',', 'and', \"don'cha\", 'come',\n",
       "       'back', 'no', 'more', ',', 'no', 'more', ',', 'no', 'more', ',',\n",
       "       'no', 'more', 'hit', 'the', 'road', 'jack', ',', 'and', \"don'cha\",\n",
       "       'come', 'back', 'no', 'more', 'what', \"'d\", 'you', 'say', '?',\n",
       "       'hit', 'the', 'road', 'jack', ',', 'and', \"don'cha\", 'come',\n",
       "       'back', 'no', 'more', ',', 'no', 'more', ',', 'no', 'more', ',',\n",
       "       'no', 'more', 'hit', 'the', 'road', 'jack', ',', 'and', \"don'cha\",\n",
       "       'come', 'back', 'no', 'more', 'now', 'baby', ',', 'listen', 'baby',\n",
       "       ',', 'do', \"n't\", 'you', 'treat', 'me', 'this', 'way', 'cause',\n",
       "       'i', \"'ll\", 'be', 'back', 'on', 'my', 'feet', 'some', 'day', 'do',\n",
       "       \"n't\", 'care', 'if', 'you', 'do', ',', 'cause', 'it', \"'s\",\n",
       "       'understood', 'you', 'ai', \"n't\", 'got', 'no', 'money', ',', 'you',\n",
       "       'just', 'a', 'no', 'good', 'well', 'i', 'guess', 'if', 'you',\n",
       "       'say', 'so', 'i', \"'ll\", 'have', 'to', 'pack', 'my', 'things',\n",
       "       'and', 'go', '(', 'that', \"'s\", 'right', ')', 'hit', 'the', 'road',\n",
       "       'jack', ',', 'and', \"don'cha\", 'come', 'back', 'no', 'more', ',',\n",
       "       'no', 'more', ',', 'no', 'more', ',', 'no', 'more', 'hit', 'the',\n",
       "       'road', 'jack', ',', 'and', \"don'cha\", 'come', 'back', 'no',\n",
       "       'more', 'what', \"'d\", 'you', 'say', '?', 'hit', 'the', 'road',\n",
       "       'jack', ',', 'and', \"don'cha\", 'come', 'back', 'no', 'more', ',',\n",
       "       'no', 'more', ',', 'no', 'more', ',', 'no', 'more', 'hit', 'the',\n",
       "       'road', 'jack', ',', 'and', \"don'cha\", 'come', 'back', 'no',\n",
       "       'more', 'well', '(', \"don'cha\", 'come', 'back', 'no', 'more', ')',\n",
       "       'uh', ',', 'what', \"'d\", 'you', 'say', '?', '(', \"don'cha\", 'come',\n",
       "       'back', 'no', 'more', ')', 'i', 'did', \"n't\", 'understand', 'you',\n",
       "       '(', \"don'cha\", 'come', 'back', 'no', 'more', ')', 'you', 'ca',\n",
       "       \"n't\", 'mean', 'that', '(', \"don'cha\", 'come', 'back', 'no',\n",
       "       'more', ')', 'oh', ',', 'now', 'baby', 'please', '(', \"don'cha\",\n",
       "       'come', 'back', 'no', 'more', ')', 'what', 'you', \"'re\", 'trying',\n",
       "       'to', 'do', 'to', 'me', '(', \"don'cha\", 'come', 'back', 'no',\n",
       "       'more', ')'], dtype='<U10')"
      ]
     },
     "execution_count": 42,
     "metadata": {},
     "output_type": "execute_result"
    }
   ],
   "source": [
    "test_str_tokenized[index + 1:len(test_str_tokenized) - 1]"
   ]
  },
  {
   "cell_type": "code",
   "execution_count": null,
   "id": "f9ff62cf",
   "metadata": {},
   "outputs": [],
   "source": [
    "def clean_lyrics(llst, title):\n",
    "    "
   ]
  },
  {
   "cell_type": "code",
   "execution_count": null,
   "id": "c7f53b56",
   "metadata": {},
   "outputs": [],
   "source": [
    "##### Cleaning lyrical data #####\n",
    "\n",
    "# Step 1: Turn all letters into lowercase \n",
    "\n",
    "# Step 2: Remove {song title lyrics: } from each lyric "
   ]
  }
 ],
 "metadata": {
  "kernelspec": {
   "display_name": "Python 3",
   "language": "python",
   "name": "python3"
  },
  "language_info": {
   "codemirror_mode": {
    "name": "ipython",
    "version": 3
   },
   "file_extension": ".py",
   "mimetype": "text/x-python",
   "name": "python",
   "nbconvert_exporter": "python",
   "pygments_lexer": "ipython3",
   "version": "3.8.8"
  }
 },
 "nbformat": 4,
 "nbformat_minor": 5
}
