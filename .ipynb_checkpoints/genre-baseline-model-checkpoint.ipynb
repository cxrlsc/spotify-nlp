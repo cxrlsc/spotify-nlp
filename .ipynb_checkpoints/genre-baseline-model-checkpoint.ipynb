{
 "cells": [
  {
   "cell_type": "code",
   "execution_count": 1,
   "id": "b1d9c29e-0899-4e70-88ca-c9fa21663451",
   "metadata": {},
   "outputs": [],
   "source": [
    "import pandas as pd\n",
    "import numpy as np"
   ]
  },
  {
   "cell_type": "markdown",
   "id": "2be0bd4e-e8cd-46b6-ba7d-22f411036d37",
   "metadata": {},
   "source": [
    "# Loading the Data"
   ]
  },
  {
   "cell_type": "code",
   "execution_count": 2,
   "id": "72d9553d-056a-4668-b416-9a0995115f88",
   "metadata": {},
   "outputs": [
    {
     "data": {
      "text/html": [
       "<div>\n",
       "<style scoped>\n",
       "    .dataframe tbody tr th:only-of-type {\n",
       "        vertical-align: middle;\n",
       "    }\n",
       "\n",
       "    .dataframe tbody tr th {\n",
       "        vertical-align: top;\n",
       "    }\n",
       "\n",
       "    .dataframe thead th {\n",
       "        text-align: right;\n",
       "    }\n",
       "</style>\n",
       "<table border=\"1\" class=\"dataframe\">\n",
       "  <thead>\n",
       "    <tr style=\"text-align: right;\">\n",
       "      <th></th>\n",
       "      <th>artist</th>\n",
       "      <th>title</th>\n",
       "      <th>lyrics</th>\n",
       "      <th>genre</th>\n",
       "    </tr>\n",
       "  </thead>\n",
       "  <tbody>\n",
       "    <tr>\n",
       "      <th>0</th>\n",
       "      <td>dolly parton</td>\n",
       "      <td>9 to 5</td>\n",
       "      <td>tumble outta bed stumble kitchen pour cup ambi...</td>\n",
       "      <td>country</td>\n",
       "    </tr>\n",
       "    <tr>\n",
       "      <th>1</th>\n",
       "      <td>taylor swift</td>\n",
       "      <td>nothing new (taylor's version) [from the vault]</td>\n",
       "      <td>tell young `` girls go fun '' hunt slay ones a...</td>\n",
       "      <td>country</td>\n",
       "    </tr>\n",
       "    <tr>\n",
       "      <th>2</th>\n",
       "      <td>maren morris</td>\n",
       "      <td>my church</td>\n",
       "      <td>’ cussed sunday ’ cheated ’ lied ’ fallen grac...</td>\n",
       "      <td>country</td>\n",
       "    </tr>\n",
       "  </tbody>\n",
       "</table>\n",
       "</div>"
      ],
      "text/plain": [
       "         artist                                            title  \\\n",
       "0  dolly parton                                           9 to 5   \n",
       "1  taylor swift  nothing new (taylor's version) [from the vault]   \n",
       "2  maren morris                                        my church   \n",
       "\n",
       "                                              lyrics    genre  \n",
       "0  tumble outta bed stumble kitchen pour cup ambi...  country  \n",
       "1  tell young `` girls go fun '' hunt slay ones a...  country  \n",
       "2  ’ cussed sunday ’ cheated ’ lied ’ fallen grac...  country  "
      ]
     },
     "execution_count": 2,
     "metadata": {},
     "output_type": "execute_result"
    }
   ],
   "source": [
    "# Load the cleaned data\n",
    "df = pd.read_csv('cleaned_genre_lyrics.csv')#.drop(columns=['Unnamed: 0'])\n",
    "df.head(3)"
   ]
  },
  {
   "cell_type": "code",
   "execution_count": 3,
   "id": "3b6b7106-c99e-4954-8e55-d733f50f73a1",
   "metadata": {},
   "outputs": [
    {
     "name": "stdout",
     "output_type": "stream",
     "text": [
      "<class 'pandas.core.frame.DataFrame'>\n",
      "RangeIndex: 2561 entries, 0 to 2560\n",
      "Data columns (total 4 columns):\n",
      " #   Column  Non-Null Count  Dtype \n",
      "---  ------  --------------  ----- \n",
      " 0   artist  2561 non-null   object\n",
      " 1   title   2561 non-null   object\n",
      " 2   lyrics  2561 non-null   object\n",
      " 3   genre   2561 non-null   object\n",
      "dtypes: object(4)\n",
      "memory usage: 80.2+ KB\n"
     ]
    }
   ],
   "source": [
    "df.info()"
   ]
  },
  {
   "cell_type": "code",
   "execution_count": 4,
   "id": "c35f1e52-f22d-400b-8950-4d2e656756ca",
   "metadata": {},
   "outputs": [],
   "source": [
    "texts = df['lyrics']\n",
    "df_labels = df['genre']"
   ]
  },
  {
   "cell_type": "code",
   "execution_count": 5,
   "id": "496d0fb8-dec6-4775-9ce0-0e7a165fbc3b",
   "metadata": {},
   "outputs": [],
   "source": [
    "cat_labels = []\n",
    "for genre in df_labels:\n",
    "    if genre == \"country\": cat_labels.append(0)\n",
    "    elif genre == \"pop\": cat_labels.append(1)\n",
    "    elif genre == \"r-b\": cat_labels.append(2)\n",
    "    elif genre == \"rock\": cat_labels.append(3)\n",
    "    elif genre == \"rap\": cat_labels.append(4)"
   ]
  },
  {
   "cell_type": "markdown",
   "id": "ea646b70-e8ba-4418-98f7-14b471915df7",
   "metadata": {},
   "source": [
    "# Loading in Pre-trained Word Vectors (GLoVE)"
   ]
  },
  {
   "cell_type": "code",
   "execution_count": 6,
   "id": "fd65b29c-ed88-49a2-bdc1-e854bbb50a4d",
   "metadata": {},
   "outputs": [],
   "source": [
    "def load_glove(file):\n",
    "    \n",
    "    f = open(file, 'r', encoding='utf8')\n",
    "    glove_model = {}\n",
    "    \n",
    "    for line in f:\n",
    "        split_lines = line.split()\n",
    "        if len(split_lines) > 1:\n",
    "            word = split_lines[0]\n",
    "            word_embedding = np.array([float(value) for value in split_lines[1:]])\n",
    "            \n",
    "            glove_model[word] = word_embedding\n",
    "    \n",
    "    print(len(glove_model), \" words loaded\")\n",
    "    return glove_model"
   ]
  },
  {
   "cell_type": "code",
   "execution_count": 7,
   "id": "5c9ab338-6d6e-43e9-9bb5-97a5e15ec5b6",
   "metadata": {},
   "outputs": [
    {
     "name": "stdout",
     "output_type": "stream",
     "text": [
      "400000  words loaded\n"
     ]
    }
   ],
   "source": [
    "glove_path = '../glove.6B.200d.txt'\n",
    "\n",
    "glove_pretrained = load_glove(glove_path)"
   ]
  },
  {
   "cell_type": "code",
   "execution_count": 8,
   "id": "87ee2186-4509-409a-b856-f52cee1759d4",
   "metadata": {},
   "outputs": [
    {
     "data": {
      "text/plain": [
       "dict"
      ]
     },
     "execution_count": 8,
     "metadata": {},
     "output_type": "execute_result"
    }
   ],
   "source": [
    "type(glove_pretrained)"
   ]
  },
  {
   "cell_type": "markdown",
   "id": "e990e59e-7912-423d-b680-43a1dc568e6c",
   "metadata": {},
   "source": [
    "# Baseline Model \\#1"
   ]
  },
  {
   "cell_type": "code",
   "execution_count": 9,
   "id": "26fc2d45-1034-47cf-a5c6-3e1570c83732",
   "metadata": {},
   "outputs": [],
   "source": [
    "import tensorflow as tf\n",
    "from tensorflow import keras\n",
    "\n",
    "\n",
    "from keras.preprocessing.text import Tokenizer\n",
    "from keras.preprocessing.sequence import pad_sequences"
   ]
  },
  {
   "cell_type": "markdown",
   "id": "c946e135-3e69-4b12-944d-d3910d133306",
   "metadata": {},
   "source": [
    "### Creating our Vocabulary and Tokenizer"
   ]
  },
  {
   "cell_type": "code",
   "execution_count": 35,
   "id": "fc49b829-291a-4787-ab22-f648fbd79447",
   "metadata": {},
   "outputs": [
    {
     "data": {
      "text/plain": [
       "28713"
      ]
     },
     "execution_count": 35,
     "metadata": {},
     "output_type": "execute_result"
    }
   ],
   "source": [
    "NUM_WORDS = 200\n",
    "tokenizer = Tokenizer(num_words=NUM_WORDS, \n",
    "                      filters='’()``''')\n",
    "\n",
    "# Create vocabulary from lyrics data\n",
    "tokenizer.fit_on_texts(texts)\n",
    "\n",
    "sequences = tokenizer.texts_to_sequences(texts)\n",
    "word_index = tokenizer.word_index\n",
    "\n",
    "vocab_size = len(word_index)\n",
    "vocab_size"
   ]
  },
  {
   "cell_type": "code",
   "execution_count": 36,
   "id": "ef7e4aef-f9f7-4843-84a5-ad104ac0e54c",
   "metadata": {},
   "outputs": [
    {
     "data": {
      "text/plain": [
       "array([[1., 0., 0., 0., 0.],\n",
       "       [1., 0., 0., 0., 0.],\n",
       "       [1., 0., 0., 0., 0.],\n",
       "       ...,\n",
       "       [0., 0., 1., 0., 0.],\n",
       "       [0., 0., 1., 0., 0.],\n",
       "       [0., 0., 1., 0., 0.]], dtype=float32)"
      ]
     },
     "execution_count": 36,
     "metadata": {},
     "output_type": "execute_result"
    }
   ],
   "source": [
    "MAX_SEQUENCE_LENGTH = 100\n",
    "\n",
    "# Creating our data matrix\n",
    "data = pad_sequences(sequences, maxlen=MAX_SEQUENCE_LENGTH)\n",
    "\n",
    "# Creating label matrix \n",
    "labels = tf.keras.utils.to_categorical(cat_labels)\n",
    "labels"
   ]
  },
  {
   "cell_type": "markdown",
   "id": "a4e70af0-9553-4688-8797-6ee1d9af5e02",
   "metadata": {},
   "source": [
    "### Creating Embedding Matrix from GLoVE embeddings"
   ]
  },
  {
   "cell_type": "code",
   "execution_count": 37,
   "id": "00b8f7da-edf0-4f68-a941-a44a4557ca0d",
   "metadata": {},
   "outputs": [],
   "source": [
    "# Creating our embeddings matrix \n",
    "\n",
    "EMBEDDING_DIM = 200\n",
    "embeddings_matrix = np.zeros((vocab_size, EMBEDDING_DIM))\n",
    "\n",
    "for word, i in word_index.items():\n",
    "    embedding_vector = glove_pretrained.get(word)\n",
    "    \n",
    "    if embedding_vector is not None:\n",
    "        embeddings_matrix[i] = embedding_vector"
   ]
  },
  {
   "cell_type": "code",
   "execution_count": 38,
   "id": "23b5f6fb-f309-413f-8f35-fb21770c691c",
   "metadata": {},
   "outputs": [
    {
     "data": {
      "text/plain": [
       "[array([[ 0.      ,  0.      ,  0.      , ...,  0.      ,  0.      ,\n",
       "          0.      ],\n",
       "        [ 0.6356  , -0.061983,  0.68573 , ..., -0.1713  , -0.48949 ,\n",
       "         -0.029627],\n",
       "        [ 0.58852 ,  0.23437 ,  0.015102, ...,  0.056616, -0.037464,\n",
       "          0.51246 ],\n",
       "        ...,\n",
       "        [ 0.27567 ,  0.60437 ,  0.17058 , ..., -0.11173 , -0.067429,\n",
       "          0.26818 ],\n",
       "        [ 0.28251 , -0.24092 , -0.43196 , ..., -0.11973 ,  0.36483 ,\n",
       "          0.12194 ],\n",
       "        [-0.55458 ,  0.1008  ,  0.20118 , ..., -0.1304  , -0.29817 ,\n",
       "         -0.21016 ]])]"
      ]
     },
     "execution_count": 38,
     "metadata": {},
     "output_type": "execute_result"
    }
   ],
   "source": [
    "[embeddings_matrix]"
   ]
  },
  {
   "cell_type": "code",
   "execution_count": 39,
   "id": "db15d7af-0a38-4327-95ee-43bd148521cf",
   "metadata": {},
   "outputs": [],
   "source": [
    "# Splitting the data into test and train sets \n",
    "np.random.seed(12)\n",
    "\n",
    "indices = np.arange(data.shape[0])\n",
    "np.random.shuffle(indices)\n",
    "data_for_split = data[indices]\n",
    "labels_for_split = labels[indices]"
   ]
  },
  {
   "cell_type": "code",
   "execution_count": 40,
   "id": "2e3d7cc0-f9f8-4b3c-b643-db6689f1cf7b",
   "metadata": {},
   "outputs": [],
   "source": [
    "VALIDATION_SPLIT = .20\n",
    "\n",
    "nb_validation_samples = int(VALIDATION_SPLIT * data.shape[0])\n",
    "\n",
    "x_train = data[:-nb_validation_samples]\n",
    "y_train = labels[:-nb_validation_samples]\n",
    "\n",
    "x_val = data[-nb_validation_samples:]\n",
    "y_val = data[-nb_validation_samples:]"
   ]
  },
  {
   "cell_type": "code",
   "execution_count": 41,
   "id": "8dcb5348-cc9b-4d4e-9a1b-a5b884fe2f4b",
   "metadata": {},
   "outputs": [
    {
     "data": {
      "text/plain": [
       "((2049, 100), (512, 100))"
      ]
     },
     "execution_count": 41,
     "metadata": {},
     "output_type": "execute_result"
    }
   ],
   "source": [
    "x_train.shape, x_val.shape"
   ]
  },
  {
   "cell_type": "code",
   "execution_count": 42,
   "id": "ef96c739-dac0-4beb-8613-b3f6bad3f577",
   "metadata": {},
   "outputs": [],
   "source": [
    "labels_index = 5"
   ]
  },
  {
   "cell_type": "markdown",
   "id": "aa13a726-66b4-49bb-81a8-61ba5a67f14d",
   "metadata": {},
   "source": [
    "### Creating the Model and its Layers"
   ]
  },
  {
   "cell_type": "code",
   "execution_count": 43,
   "id": "d566abc8-208e-48ef-8796-93a38228679b",
   "metadata": {},
   "outputs": [],
   "source": [
    "# Building the embeddings layers\n",
    "\n",
    "from keras.layers import Embedding\n",
    "\n",
    "embedding_layer = Embedding(vocab_size, \n",
    "                            EMBEDDING_DIM, \n",
    "                            weights=[embeddings_matrix], \n",
    "                            input_length=MAX_SEQUENCE_LENGTH, \n",
    "                            trainable=False, \n",
    "                            name=\"embedding_layer\") # Might tweak this to be Truec"
   ]
  },
  {
   "cell_type": "code",
   "execution_count": 44,
   "id": "9883ec59-c680-4888-82df-01e03c2a1709",
   "metadata": {},
   "outputs": [],
   "source": [
    "# Coding up the model \n",
    "\n",
    "from tensorflow.keras import layers\n",
    "\n",
    "rnn_units = 200\n",
    "\n",
    "sequence_input = layers.Input(shape=(MAX_SEQUENCE_LENGTH, ), dtype=\"int32\", name=\"input layer\")\n",
    "\n",
    "embeddings = embedding_layer(sequence_input)\n",
    "\n",
    "rnn_output = layers.LSTM(rnn_units, name=\"LSTM\")(embeddings)\n",
    "\n",
    "output = layers.Dense(labels_index, activation=\"sigmoid\", name=\"output_layer\")(rnn_output)"
   ]
  },
  {
   "cell_type": "code",
   "execution_count": 45,
   "id": "28271fe9-4204-460c-8968-67f02fb0f895",
   "metadata": {},
   "outputs": [],
   "source": [
    "model = keras.Model(inputs=sequence_input, outputs=output)"
   ]
  },
  {
   "cell_type": "code",
   "execution_count": 46,
   "id": "cab0ba5d-be35-4262-be1b-c76158af8402",
   "metadata": {},
   "outputs": [
    {
     "data": {
      "image/png": "[encoded data removed]",
      "text/plain": [
       "<IPython.core.display.Image object>"
      ]
     },
     "execution_count": 46,
     "metadata": {},
     "output_type": "execute_result"
    }
   ],
   "source": [
    "keras.utils.plot_model(model, show_shapes=True, dpi=90)"
   ]
  },
  {
   "cell_type": "code",
   "execution_count": 47,
   "id": "d0a16cf4-0d39-4d4a-852f-f3cbaf393f1b",
   "metadata": {},
   "outputs": [],
   "source": [
    "model.compile(optimizer=\"adam\", \n",
    "              loss=\"categorical_crossentropy\", \n",
    "              metrics=[\"accuracy\"])\n",
    "\n",
    "early_stopping_callback = keras.callbacks.EarlyStopping(monitor=\"val_loss\", \n",
    "                                                       min_delta=0, \n",
    "                                                       patience=3, \n",
    "                                                       verbose=1, \n",
    "                                                       mode=\"auto\")"
   ]
  },
  {
   "cell_type": "code",
   "execution_count": 48,
   "id": "1b8ce76c-43c5-4919-a6ce-f57d41ddfd07",
   "metadata": {},
   "outputs": [
    {
     "name": "stdout",
     "output_type": "stream",
     "text": [
      "Epoch 1/5\n",
      "9/9 [==============================] - 4s 298ms/step - loss: 1.2939 - accuracy: 0.4381 - val_loss: 2.0402 - val_accuracy: 0.3268\n",
      "Epoch 2/5\n",
      "9/9 [==============================] - 2s 249ms/step - loss: 1.1773 - accuracy: 0.5345 - val_loss: 1.7123 - val_accuracy: 0.3195\n",
      "Epoch 3/5\n",
      "9/9 [==============================] - 2s 245ms/step - loss: 1.1005 - accuracy: 0.5827 - val_loss: 1.7961 - val_accuracy: 0.3024\n",
      "Epoch 4/5\n",
      "9/9 [==============================] - 2s 251ms/step - loss: 1.0574 - accuracy: 0.6083 - val_loss: 1.7147 - val_accuracy: 0.3463\n",
      "Epoch 5/5\n",
      "9/9 [==============================] - 2s 247ms/step - loss: 1.0488 - accuracy: 0.6089 - val_loss: 1.6855 - val_accuracy: 0.3024\n"
     ]
    }
   ],
   "source": [
    "history = model.fit(x_train, y_train, \n",
    "                    epochs=5, batch_size=200, \n",
    "                    validation_split=.2, \n",
    "                    verbose = 1, \n",
    "                    callbacks=[early_stopping_callback])"
   ]
  },
  {
   "cell_type": "markdown",
   "id": "2db25e77-ee99-4300-8711-addaa06fe6c0",
   "metadata": {},
   "source": [
    "# Baseline Model \\#2"
   ]
  },
  {
   "cell_type": "code",
   "execution_count": 49,
   "id": "b288541e-65df-48c5-8b99-271ccb5f0a36",
   "metadata": {},
   "outputs": [],
   "source": [
    "# Building the embeddings layers\n",
    "\n",
    "from keras.layers import Embedding\n",
    "\n",
    "embedding_layer = Embedding(vocab_size, \n",
    "                            EMBEDDING_DIM, \n",
    "                            weights=[embeddings_matrix], \n",
    "                            input_length=MAX_SEQUENCE_LENGTH, \n",
    "                            trainable=True, # Change from Model 1\n",
    "                            name=\"embedding_layer\") "
   ]
  },
  {
   "cell_type": "code",
   "execution_count": 50,
   "id": "630b5285-578c-47b3-9089-06dd389548a9",
   "metadata": {},
   "outputs": [],
   "source": [
    "# Coding up the model \n",
    "\n",
    "rnn_units = 200\n",
    "\n",
    "sequence_input = layers.Input(shape=(MAX_SEQUENCE_LENGTH, ), dtype=\"int32\", name=\"input layer\")\n",
    "\n",
    "embeddings = embedding_layer(sequence_input)\n",
    "\n",
    "rnn_output = layers.LSTM(rnn_units, name=\"LSTM\")(embeddings)\n",
    "\n",
    "output = layers.Dense(labels_index, activation=\"sigmoid\", name=\"output_layer\")(rnn_output)"
   ]
  },
  {
   "cell_type": "code",
   "execution_count": 51,
   "id": "8da53043-8bee-48b8-8ac9-c6d7cb80520f",
   "metadata": {},
   "outputs": [],
   "source": [
    "model = keras.Model(inputs=sequence_input, outputs=output)"
   ]
  },
  {
   "cell_type": "code",
   "execution_count": 52,
   "id": "fd79d286-8a3c-457d-8444-7bde419d8dca",
   "metadata": {},
   "outputs": [],
   "source": [
    "model.compile(optimizer=\"adam\", \n",
    "              loss=\"categorical_crossentropy\", \n",
    "              metrics=[\"accuracy\"])\n",
    "\n",
    "early_stopping_callback = keras.callbacks.EarlyStopping(monitor=\"val_loss\", \n",
    "                                                       min_delta=0, \n",
    "                                                       patience=3, \n",
    "                                                       verbose=1, \n",
    "                                                       mode=\"auto\")"
   ]
  },
  {
   "cell_type": "code",
   "execution_count": 53,
   "id": "8833baf7-f7f5-491c-80c8-7b19739981c8",
   "metadata": {},
   "outputs": [
    {
     "name": "stdout",
     "output_type": "stream",
     "text": [
      "Epoch 1/5\n",
      "9/9 [==============================] - 4s 323ms/step - loss: 1.3036 - accuracy: 0.4613 - val_loss: 1.9388 - val_accuracy: 0.1390\n",
      "Epoch 2/5\n",
      "9/9 [==============================] - 2s 276ms/step - loss: 1.1759 - accuracy: 0.5369 - val_loss: 1.7294 - val_accuracy: 0.3244\n",
      "Epoch 3/5\n",
      "9/9 [==============================] - 2s 273ms/step - loss: 1.1113 - accuracy: 0.5924 - val_loss: 1.8293 - val_accuracy: 0.2146\n",
      "Epoch 4/5\n",
      "9/9 [==============================] - 2s 275ms/step - loss: 1.0681 - accuracy: 0.5937 - val_loss: 1.7343 - val_accuracy: 0.3244\n",
      "Epoch 5/5\n",
      "9/9 [==============================] - 2s 273ms/step - loss: 1.0183 - accuracy: 0.6290 - val_loss: 1.7795 - val_accuracy: 0.2976\n",
      "Epoch 00005: early stopping\n"
     ]
    }
   ],
   "source": [
    "history = model.fit(x_train, y_train, \n",
    "                    epochs=5, batch_size=200, \n",
    "                    validation_split=.2, \n",
    "                    verbose = 1, \n",
    "                    callbacks=[early_stopping_callback])"
   ]
  },
  {
   "cell_type": "markdown",
   "id": "25a2682f-1d03-4871-aeac-7ea3736a094e",
   "metadata": {},
   "source": [
    "# Baseline Model \\#3"
   ]
  },
  {
   "cell_type": "code",
   "execution_count": 58,
   "id": "d09f6eb2-c67a-4f34-8639-c81487477b6e",
   "metadata": {},
   "outputs": [],
   "source": [
    "model = keras.models.Sequential()\n",
    "model.add(Embedding(vocab_size, \n",
    "                    EMBEDDING_DIM, \n",
    "                    weights=[embeddings_matrix], \n",
    "                    input_length=MAX_SEQUENCE_LENGTH,\n",
    "                    trainable=True,\n",
    "                    name=\"embedding_layer\"))\n",
    "\n",
    "\n",
    "model.add(layers.LSTM(rnn_units, activation='sigmoid', name=\"LSTM\", return_sequences=True))\n",
    "model.add(layers.Dropout(0.5))\n",
    "model.add(layers.GlobalMaxPooling1D())\n",
    "\n",
    "model.add(layers.Dense(labels_index, \n",
    "                       activation='softmax', \n",
    "                       name=\"output_layer\"))\n",
    "\n",
    "\n",
    "model.compile(loss='categorical_crossentropy',\n",
    "              optimizer='adam',\n",
    "              metrics=['accuracy'])"
   ]
  },
  {
   "cell_type": "code",
   "execution_count": 59,
   "id": "c73f236d-c515-4894-96bc-0ced2dd43c10",
   "metadata": {},
   "outputs": [],
   "source": [
    "early_stopping_callback = keras.callbacks.EarlyStopping(monitor=\"val_loss\", \n",
    "                                                        min_delta=0, \n",
    "                                                        patience=3, \n",
    "                                                        verbose=1, \n",
    "                                                        mode=\"auto\")"
   ]
  },
  {
   "cell_type": "code",
   "execution_count": 60,
   "id": "7fb9aff9-3a9b-4cc1-9172-83e214cdf565",
   "metadata": {},
   "outputs": [
    {
     "name": "stdout",
     "output_type": "stream",
     "text": [
      "Epoch 1/5\n",
      "9/9 [==============================] - 5s 309ms/step - loss: 1.6736 - accuracy: 0.3374 - val_loss: 1.7515 - val_accuracy: 0.2098\n",
      "Epoch 2/5\n",
      "9/9 [==============================] - 3s 284ms/step - loss: 1.3309 - accuracy: 0.5790 - val_loss: 1.3894 - val_accuracy: 0.3659\n",
      "Epoch 3/5\n",
      "9/9 [==============================] - 3s 279ms/step - loss: 1.2094 - accuracy: 0.6126 - val_loss: 1.5825 - val_accuracy: 0.3171\n",
      "Epoch 4/5\n",
      "9/9 [==============================] - 3s 279ms/step - loss: 1.0983 - accuracy: 0.6394 - val_loss: 1.5635 - val_accuracy: 0.3390\n",
      "Epoch 5/5\n",
      "9/9 [==============================] - 3s 282ms/step - loss: 1.0650 - accuracy: 0.6370 - val_loss: 1.5990 - val_accuracy: 0.3146\n",
      "Epoch 00005: early stopping\n"
     ]
    }
   ],
   "source": [
    "history = model.fit(x_train, y_train, \n",
    "                    epochs=5, batch_size=200, \n",
    "                    validation_split=.2, \n",
    "                    verbose = 1, \n",
    "                    callbacks=[early_stopping_callback])"
   ]
  },
  {
   "cell_type": "code",
   "execution_count": 62,
   "id": "fb665a29-4d39-42fe-ad69-fe627d700d38",
   "metadata": {},
   "outputs": [
    {
     "data": {
      "image/png": "[encoded data removed]",
      "text/plain": [
       "<IPython.core.display.Image object>"
      ]
     },
     "execution_count": 62,
     "metadata": {},
     "output_type": "execute_result"
    }
   ],
   "source": [
    "keras.utils.plot_model(model, show_shapes=True, dpi=90)"
   ]
  },
  {
   "cell_type": "code",
   "execution_count": 61,
   "id": "03db6d5b-5bd1-4f5f-9359-d96e9e401db0",
   "metadata": {},
   "outputs": [
    {
     "name": "stdout",
     "output_type": "stream",
     "text": [
      "Model: \"sequential_4\"\n",
      "_________________________________________________________________\n",
      "Layer (type)                 Output Shape              Param #   \n",
      "=================================================================\n",
      "embedding_layer (Embedding)  (None, 100, 200)          5742600   \n",
      "_________________________________________________________________\n",
      "LSTM (LSTM)                  (None, 100, 200)          320800    \n",
      "_________________________________________________________________\n",
      "dropout (Dropout)            (None, 100, 200)          0         \n",
      "_________________________________________________________________\n",
      "global_max_pooling1d (Global (None, 200)               0         \n",
      "_________________________________________________________________\n",
      "output_layer (Dense)         (None, 5)                 1005      \n",
      "=================================================================\n",
      "Total params: 6,064,405\n",
      "Trainable params: 6,064,405\n",
      "Non-trainable params: 0\n",
      "_________________________________________________________________\n",
      "None\n"
     ]
    }
   ],
   "source": [
    "print(model.summary())"
   ]
  },
  {
   "cell_type": "markdown",
   "id": "edf5e193-86a3-4419-bd7b-e1d79a59aec1",
   "metadata": {},
   "source": [
    "# Improved Model \\#1"
   ]
  },
  {
   "cell_type": "code",
   "execution_count": 74,
   "id": "60bdc14b-f9e7-40c6-9803-eadca2cf84df",
   "metadata": {},
   "outputs": [],
   "source": [
    "dropout = 0.5\n",
    "\n",
    "# Number of hidden layers\n",
    "n_hidden = 100\n",
    "attention_size = 100 # Size of hidden layer output from word attention "
   ]
  },
  {
   "cell_type": "code",
   "execution_count": null,
   "id": "2d6f3b18-58d0-4b6c-adc7-2715cc809a71",
   "metadata": {},
   "outputs": [],
   "source": [
    "sequence_input = layers.Input(shape=(MAX_SEQUENCE_LENGTH, ), name=\"input_layer\")\n",
    "\n",
    "embedding_layer = Embedding(vocab_size, \n",
    "                            EMBEDDING_DIM, \n",
    "                            weights=[embeddings_matrix], \n",
    "                            input_length=MAX_SEQUENCE_LENGTH, \n",
    "                            trainable=True, \n",
    "                            name=\"embedding_layer\")\n",
    "\n",
    "embeddings = embedding_layer(sequence_input)\n",
    "\n",
    "gru = layers.Bidirectional(layers.GRU(n_hidden, return_sequences=True, inner_activation=\"sigmoid\"))(sequence_input)\n",
    "\n",
    "drop = layers.Dropout(dropout)(gru)\n",
    "\n",
    "pool = layers.GlobalAvgPool1D()(drop)\n",
    "\n",
    "preds = layers.Dense(labels_index, activation=\"softmax\")(pool)\n",
    "\n",
    "model = keras.Model(sequence_input, preds)\n",
    "\n",
    "#x = layers.Dropout(dropout)(x)\n",
    "\n",
    "#x = layers.GlobalAvgPool1D()(x)\n",
    "\n",
    "#x = layers.Dense(4 * labels_index, activation=\"relu\")(x)\n",
    "\n",
    "#out = layers.Dense(labels_index, activation=\"softmax\")(x)\n",
    "\n",
    "#model = keras.Model(inputs=sequence_input, outputs=out)\n",
    "\n",
    "#model.compile(optimizer=\"adam\", \n",
    "#              loss=\"categorical_crossentropy\", \n",
    "#              metrics=[\"accuracy\"])"
   ]
  },
  {
   "cell_type": "code",
   "execution_count": null,
   "id": "9f103080-81fa-4c42-8d2c-892ce0c0dc70",
   "metadata": {},
   "outputs": [],
   "source": [
    "early_stopping_callback = keras.callbacks.EarlyStopping(monitor=\"val_loss\", \n",
    "                                                       min_delta=0, \n",
    "                                                       patience=3, \n",
    "                                                       verbose=1, \n",
    "                                                       mode=\"auto\")\n",
    "\n",
    "history = model.fit(x_train, y_train, \n",
    "                    epochs=5, batch_size=200, \n",
    "                    validation_split=.2, \n",
    "                    verbose = 1, \n",
    "                    callbacks=[early_stopping_callback])"
   ]
  },
  {
   "cell_type": "markdown",
   "id": "7b56b6b3-d2de-40d8-9030-f7b29e8e676b",
   "metadata": {},
   "source": [
    "# Improved Model \\#2"
   ]
  },
  {
   "cell_type": "code",
   "execution_count": 80,
   "id": "27871944-383b-4b4c-8469-1591e1b2c726",
   "metadata": {},
   "outputs": [],
   "source": [
    "#our attention layer, uses Bahdanau Attention from 2015 paper that's essentially weighted sum, also known as \"additive attention\"\n",
    "class BahdanauAttention(layers.Layer):\n",
    "    def __init__(self, units):\n",
    "        super(BahdanauAttention, self).__init__()\n",
    "        self.W1 = tf.keras.layers.Dense(units)\n",
    "        self.W2 = tf.keras.layers.Dense(units)\n",
    "        self.V = tf.keras.layers.Dense(1)\n",
    "        self._name=\"Attention\"\n",
    " \n",
    "    def call(self, features, hidden):\n",
    "    # hidden state shape == (batch_size, hidden size)\n",
    "    # hidden_with_time_axis shape == (batch_size, 1, hidden size)\n",
    "    # values shape == (batch_size, max_len, hidden size)\n",
    "    # we are doing this to broadcast addition along the time axis to calculate the score\n",
    "        hidden_with_time_axis = tf.expand_dims(hidden, 1)\n",
    "    # score shape == (batch_size, max_length, 1)\n",
    "    # we get 1 at the last axis because we are applying score to self.V\n",
    "    # the shape of the tensor before applying self.V is (batch_size, max_length, units)\n",
    "        score = tf.nn.tanh(self.W1(features) + self.W2(hidden_with_time_axis))\n",
    "        \n",
    "    # attention_weights shape == (batch_size, max_length, 1)\n",
    "        attention_weights = tf.nn.softmax(self.V(score), axis=1)\n",
    "    # context_vector shape after sum == (batch_size, hidden_size)\n",
    "        context_vector = attention_weights * features\n",
    "        context_vector = tf.reduce_sum(context_vector, axis=1)\n",
    " \n",
    "        return context_vector, attention_weights"
   ]
  },
  {
   "cell_type": "code",
   "execution_count": 87,
   "id": "e0f0d5d0-619f-4c60-bff9-68edc7aaab16",
   "metadata": {},
   "outputs": [
    {
     "data": {
      "image/png": "[encoded data removed]",
      "text/plain": [
       "<IPython.core.display.Image object>"
      ]
     },
     "execution_count": 87,
     "metadata": {},
     "output_type": "execute_result"
    }
   ],
   "source": [
    "#LSTM Classifier with Attention\n",
    "attn_units= 360\n",
    "sequence_input = layers.Input(shape=(MAX_SEQUENCE_LENGTH,) ,name=\"input_layer\", dtype='int32')\n",
    "\n",
    "\n",
    "embeddings = keras.layers.Embedding(input_dim=vocab_size, \n",
    "                                    output_dim=EMBEDDING_DIM, \n",
    "                                    weights=[embeddings_matrix],\n",
    "                                    input_length=MAX_SEQUENCE_LENGTH,\n",
    "                                    name=\"embedding_layer\", \n",
    "                                    trainable=True)(sequence_input)\n",
    "\n",
    "\n",
    "lstm_output,hidden_h, hidden_c = tf.keras.layers.LSTM(rnn_units,\n",
    "                                                      name='LSTM',\n",
    "                                                      return_sequences=True,\n",
    "                                                      return_state=True)(embeddings)\n",
    "\n",
    "context_vector, attention_weights = BahdanauAttention(attn_units)(lstm_output, hidden_h)\n",
    "\n",
    "output = keras.layers.Dense(labels_index, activation='sigmoid', name='output_layer')(context_vector) \n",
    "\n",
    "attn_model = keras.Model(inputs=sequence_input, outputs=output) \n",
    " \n",
    "# summarize layers\n",
    "keras.utils.plot_model(attn_model, show_shapes=True, dpi=90)"
   ]
  },
  {
   "cell_type": "code",
   "execution_count": 91,
   "id": "f9a3a2c7-0a1a-4b06-9505-79a8bdd6ae2d",
   "metadata": {},
   "outputs": [
    {
     "name": "stdout",
     "output_type": "stream",
     "text": [
      "Epoch 1/10\n",
      "8/8 [==============================] - 5s 386ms/step - loss: 0.9282 - accuracy: 0.6430 - val_loss: 1.7036 - val_accuracy: 0.3431\n",
      "Epoch 2/10\n",
      "8/8 [==============================] - 3s 324ms/step - loss: 0.8845 - accuracy: 0.6541 - val_loss: 1.5652 - val_accuracy: 0.4130\n",
      "Epoch 3/10\n",
      "8/8 [==============================] - 3s 323ms/step - loss: 0.8406 - accuracy: 0.6653 - val_loss: 1.6943 - val_accuracy: 0.3837\n",
      "Epoch 4/10\n",
      "8/8 [==============================] - 3s 324ms/step - loss: 0.8152 - accuracy: 0.6806 - val_loss: 1.7564 - val_accuracy: 0.4033\n",
      "Epoch 5/10\n",
      "8/8 [==============================] - 3s 328ms/step - loss: 0.7991 - accuracy: 0.6855 - val_loss: 1.7697 - val_accuracy: 0.4049\n",
      "Epoch 00005: early stopping\n"
     ]
    }
   ],
   "source": [
    "attn_model.compile(loss='categorical_crossentropy',\n",
    "              optimizer='adam',\n",
    "              metrics=['accuracy'])\n",
    "\n",
    "early_stopping_callback = keras.callbacks.EarlyStopping(monitor=\"val_loss\", \n",
    "                                                        min_delta=.10, \n",
    "                                                        patience=3, \n",
    "                                                        verbose=1, \n",
    "                                                        mode=\"auto\")\n",
    "\n",
    "history = attn_model.fit(x_train,\n",
    "                    y_train,\n",
    "                    epochs=10,\n",
    "                    batch_size=200,\n",
    "                    validation_split=.3, verbose=1, callbacks=[early_stopping_callback])"
   ]
  },
  {
   "cell_type": "code",
   "execution_count": null,
   "id": "fbbe282b-dece-45f7-a0f8-dca061665f13",
   "metadata": {},
   "outputs": [],
   "source": []
  }
 ],
 "metadata": {
  "kernelspec": {
   "display_name": "Python 3",
   "language": "python",
   "name": "python3"
  },
  "language_info": {
   "codemirror_mode": {
    "name": "ipython",
    "version": 3
   },
   "file_extension": ".py",
   "mimetype": "text/x-python",
   "name": "python",
   "nbconvert_exporter": "python",
   "pygments_lexer": "ipython3",
   "version": "3.8.8"
  }
 },
 "nbformat": 4,
 "nbformat_minor": 5
}
