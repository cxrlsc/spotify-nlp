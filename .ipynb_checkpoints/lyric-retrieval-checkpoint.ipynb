{
 "cells": [
  {
   "cell_type": "code",
   "execution_count": null,
   "id": "4ec62be6-2786-4488-aca7-51c07bc6a9f6",
   "metadata": {},
   "outputs": [],
   "source": [
    "pip install lyricsgenius -q"
   ]
  },
  {
   "cell_type": "code",
   "execution_count": 1,
   "id": "5bebef16-58e6-4242-a00e-2f4a4eb53261",
   "metadata": {},
   "outputs": [],
   "source": [
    "from lyricsgenius import Genius\n",
    "\n",
    "import pandas as pd"
   ]
  },
  {
   "cell_type": "code",
   "execution_count": 56,
   "id": "b561ad05-f4b5-41fa-b119-28dca8cc138a",
   "metadata": {},
   "outputs": [],
   "source": [
    "token = \"rr7YGMkarmjd_A6hUH4C_gNS46amqPOjoWUGqF1wU1UQkzwqGQ8_OHdl32h8WTrr\"\n",
    "genius = Genius(token, \n",
    "                skip_non_songs=True, \n",
    "                excluded_terms=[\"(Remix)\", \"(Live)\"], \n",
    "                remove_section_headers=True)"
   ]
  },
  {
   "cell_type": "code",
   "execution_count": 3,
   "id": "1ff06aef",
   "metadata": {},
   "outputs": [
    {
     "data": {
      "text/html": [
       "<div>\n",
       "<style scoped>\n",
       "    .dataframe tbody tr th:only-of-type {\n",
       "        vertical-align: middle;\n",
       "    }\n",
       "\n",
       "    .dataframe tbody tr th {\n",
       "        vertical-align: top;\n",
       "    }\n",
       "\n",
       "    .dataframe thead th {\n",
       "        text-align: right;\n",
       "    }\n",
       "</style>\n",
       "<table border=\"1\" class=\"dataframe\">\n",
       "  <thead>\n",
       "    <tr style=\"text-align: right;\">\n",
       "      <th></th>\n",
       "      <th>artist</th>\n",
       "      <th>title</th>\n",
       "      <th>lyrics</th>\n",
       "      <th>description</th>\n",
       "      <th>release date</th>\n",
       "    </tr>\n",
       "  </thead>\n",
       "  <tbody>\n",
       "  </tbody>\n",
       "</table>\n",
       "</div>"
      ],
      "text/plain": [
       "Empty DataFrame\n",
       "Columns: [artist, title, lyrics, description, release date]\n",
       "Index: []"
      ]
     },
     "execution_count": 3,
     "metadata": {},
     "output_type": "execute_result"
    }
   ],
   "source": [
    "data = pd.DataFrame({\n",
    "    'artist': [],\n",
    "    'title': [],\n",
    "    'lyrics': [],\n",
    "    'description': [],\n",
    "    'release date': []\n",
    "})\n",
    "data"
   ]
  },
  {
   "cell_type": "code",
   "execution_count": null,
   "id": "f6b869fa",
   "metadata": {},
   "outputs": [],
   "source": [
    "# Small example\n",
    "songs = genius.search_artist(\"Gunna\", max_songs=1, sort=\"popularity\").songs"
   ]
  },
  {
   "cell_type": "code",
   "execution_count": 4,
   "id": "52d63fd3-5626-4cd5-a535-5e8de1a89fd4",
   "metadata": {},
   "outputs": [],
   "source": [
    "def extract_songs_data(songs):\n",
    "    tbl = pd.DataFrame()\n",
    "    for song in songs:\n",
    "        # example_data.append(song.lyrics)\n",
    "\n",
    "        song_dict = song.to_dict()\n",
    "        song_artist = song_dict[\"primary_artist\"][\"name\"]\n",
    "        song_title = song_dict[\"title\"]\n",
    "        song_lyrics = song_dict[\"lyrics\"]\n",
    "        song_descpt = song_dict[\"description\"]\n",
    "        song_release_date = song_dict[\"release_date_for_display\"]\n",
    "\n",
    "        temp_data = pd.DataFrame({\n",
    "            'artist': song_artist,\n",
    "            'title': song_title,\n",
    "            'lyrics': song_lyrics,\n",
    "            'description': song_descpt,\n",
    "            'release date': song_release_date\n",
    "        })\n",
    "        \n",
    "        tbl = tbl.append(temp_data, ignore_index=True)\n",
    "        \n",
    "    return tbl\n",
    "    #data = data.append(temp_data, ignore_index=True)"
   ]
  },
  {
   "cell_type": "code",
   "execution_count": 1,
   "id": "bcbe83e4-07df-44a5-b5c7-b4173bae3007",
   "metadata": {
    "tags": []
   },
   "outputs": [],
   "source": [
    "artist_lst = [\"Ray Charles\", \"Ken Nordine\", \"Ghetto Brothers\", \"Sugarhill Gang & The Furious Five\", \n",
    "              \"Busy Bee Starski\", \"N.W.A\", \"Ice Cube\", \"The Notorious B.I.G.\", \"50 Cent\", \"Gunna\",\n",
    "              \"The Beach Boys\", \"The Monkees\", \"Elvis Presley\", \"Elton John\", \"Cyndi Lauper\", \n",
    "              \"The Bangles\", \"Duran Duran\", \"Spice Girls\", \"Fergie\", \"Olivia Rodrigo\", \"The Temptations\", \n",
    "              \"The Supremes\", \"The O’Jays\", \"The Jackson 5\", \"Diana Ross\", \"The Gap Band\", \"DeBarge\", \n",
    "              \"Tony! Toni! Toné!\", \"Mariah Carey\", \"Frank Ocean\", \"The Velvet Underground\", \"The Sonics\", \n",
    "              \"David Bowie\", \"The Who\", \"The Smiths\", \"Pixies\", \"Weezer\", \"The Cranberries\", \"Arctic Monkeys\", \n",
    "              \"Foster The People\", \"Vanilla Fudge\", \"Blue Cheer\", \"Black Sabbath\", \"Led Zeppelin\", \"Kiss\", \n",
    "              \"Iron Maiden\", \"Metallica\", \"Slayer\", \"Slipknot\", \"System of a Down\", \"The Beatles\", \n",
    "              \"The Rolling Stones\",  \"The Doors\", \"Pink Floyd\", \"Guns N’ Roses\", \"Queen\", \"Nirvana\", \n",
    "              \"Blink-182\", \"Paramore\", \"Red Hot Chili Peppers\", \"Silver Apples\", \"Fifty Foot Hose\",\n",
    "              \"Tangerine Dream\", \"Jean-Michel Jarre\", \"Erasure\", \"Boards of Canada\", \"Disclosure\",\n",
    "              \"The Prodigy\", \"Carl Cox\", \"Boris Brejcha\", \"Patsy Cline\", \"Johnny Cash\", \"Dolly Parton\", \n",
    "              \"Willie Nelson\", \"Loretta Lynn\", \"Kenny Rogers\", \"The Chicks\", \"Brooks & Dunn\", \n",
    "              \"Carrie Underwood\", \"Luke Bryan\", \"John Coltrane\", \"The Chainsmokers\", \"The Grateful Dead\", \n",
    "              \"Hans Zimmer\", \"Jim Sullivan\", \"MF Doom\", \"Cold Crush Brothers\", \"Depeche Mode\", \"Taylor Swift\",\n",
    "              \"Katy Perry\", \"Radiohead\", \"Billie Eilish\", \"Imagine Dragons\", \"Adele\", \"Baby Keem\", \"Lorde\", \"Raveena\",\n",
    "             ]"
   ]
  },
  {
   "cell_type": "markdown",
   "id": "fa46de30",
   "metadata": {},
   "source": [
    "Let us see how many artists we have. "
   ]
  },
  {
   "cell_type": "code",
   "execution_count": 2,
   "id": "da9f878a",
   "metadata": {},
   "outputs": [
    {
     "data": {
      "text/plain": [
       "97"
      ]
     },
     "execution_count": 2,
     "metadata": {},
     "output_type": "execute_result"
    }
   ],
   "source": [
    "len(artist_lst)"
   ]
  },
  {
   "cell_type": "markdown",
   "id": "e90d9c59",
   "metadata": {},
   "source": [
    "We have 97 artists, 10 artists per genre, 2 artists per decade. There are 8 genres. Now, let's collect the top 4 songs for each of these artists. This means that our data will contain information from $97 \\times 4 = 388$ songs. "
   ]
  },
  {
   "cell_type": "code",
   "execution_count": 15,
   "id": "e27c9118",
   "metadata": {},
   "outputs": [],
   "source": [
    "artist_lst_copy = artist_lst.copy()"
   ]
  },
  {
   "cell_type": "code",
   "execution_count": 59,
   "id": "65dffd9b-42a6-4d9d-a420-4e69468c6e93",
   "metadata": {
    "scrolled": true
   },
   "outputs": [
    {
     "name": "stdout",
     "output_type": "stream",
     "text": [
      "Searching for songs by The Notorious B.I.G....\n",
      "\n",
      "Song 1: \"Juicy\"\n",
      "Song 2: \"Big Poppa\"\n",
      "Song 3: \"Suicidal Thoughts\"\n",
      "Song 4: \"Hypnotize\"\n",
      "\n",
      "Reached user-specified song limit (4).\n",
      "Done. Found 4 songs.\n"
     ]
    }
   ],
   "source": [
    "num_songs = 4\n",
    "for i in range(len(artist_lst_copy)): \n",
    "    artist = artist_lst_copy[0]\n",
    "    try: \n",
    "        genius = Genius(token, \n",
    "                        skip_non_songs=True, \n",
    "                        excluded_terms=[\"(Remix)\", \"(Live)\"], \n",
    "                        remove_section_headers=True)\n",
    "        songs = genius.search_artist(artist, max_songs=num_songs, sort=\"popularity\").songs\n",
    "        new_data = extract_songs_data(songs)\n",
    "        \n",
    "        data = data.append(new_data, ignore_index=True)\n",
    "        artist_lst_copy.pop(0)\n",
    "        \n",
    "    except: \n",
    "        genius = Genius(token, \n",
    "                        skip_non_songs=True, \n",
    "                        excluded_terms=[\"(Remix)\", \"(Live)\"], \n",
    "                        remove_section_headers=True)\n",
    "        \n",
    "        songs = genius.search_artist(artist, max_songs=num_songs, sort=\"popularity\").songs\n",
    "        new_data = extract_songs_data(songs)\n",
    "        \n",
    "        data = data.append(new_data, ignore_index=True)\n",
    "        \n",
    "        artist_lst_copy.pop(0)"
   ]
  },
  {
   "cell_type": "code",
   "execution_count": 60,
   "id": "8b23ce37",
   "metadata": {},
   "outputs": [
    {
     "name": "stdout",
     "output_type": "stream",
     "text": [
      "<class 'pandas.core.frame.DataFrame'>\n",
      "RangeIndex: 385 entries, 0 to 384\n",
      "Data columns (total 5 columns):\n",
      " #   Column        Non-Null Count  Dtype \n",
      "---  ------        --------------  ----- \n",
      " 0   artist        385 non-null    object\n",
      " 1   title         385 non-null    object\n",
      " 2   lyrics        385 non-null    object\n",
      " 3   description   385 non-null    object\n",
      " 4   release date  376 non-null    object\n",
      "dtypes: object(5)\n",
      "memory usage: 15.2+ KB\n"
     ]
    }
   ],
   "source": [
    "data.info()"
   ]
  },
  {
   "cell_type": "code",
   "execution_count": 61,
   "id": "1064892c",
   "metadata": {},
   "outputs": [],
   "source": [
    "data.to_csv('lyrics.csv', index=False)"
   ]
  }
 ],
 "metadata": {
  "kernelspec": {
   "display_name": "Python 3",
   "language": "python",
   "name": "python3"
  },
  "language_info": {
   "codemirror_mode": {
    "name": "ipython",
    "version": 3
   },
   "file_extension": ".py",
   "mimetype": "text/x-python",
   "name": "python",
   "nbconvert_exporter": "python",
   "pygments_lexer": "ipython3",
   "version": "3.8.8"
  }
 },
 "nbformat": 4,
 "nbformat_minor": 5
}
