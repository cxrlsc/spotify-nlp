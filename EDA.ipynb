{
 "cells": [
  {
   "cell_type": "code",
   "execution_count": 168,
   "id": "4b58f196",
   "metadata": {},
   "outputs": [],
   "source": [
    "import pandas as pd\n",
    "import numpy as np\n",
    "import nltk\n",
    "import re\n",
    "\n",
    "from nltk.tokenize import word_tokenize, sent_tokenize\n",
    "\n",
    "nltk.download('punkt')"
   ]
  },
  {
   "cell_type": "markdown",
   "id": "ad3b7e9a",
   "metadata": {},
   "source": [
    "# Data"
   ]
  },
  {
   "cell_type": "code",
   "execution_count": 200,
   "id": "770063fa",
   "metadata": {},
   "outputs": [],
   "source": [
    "df = pd.read_csv('lyrics.csv')\n",
    "# Removing any songs without lyrics \n",
    "df = df[~pd.isna(df['lyrics'])]\n",
    "df.head()\n",
    "\n",
    "# Defining a dataset with nonempty descriptions for *maybe* future use\n",
    "data = df.query(\"description != '?'\")"
   ]
  },
  {
   "cell_type": "code",
   "execution_count": 183,
   "id": "d9662926",
   "metadata": {},
   "outputs": [
    {
     "name": "stdout",
     "output_type": "stream",
     "text": [
      "<class 'pandas.core.frame.DataFrame'>\n",
      "Int64Index: 382 entries, 0 to 384\n",
      "Data columns (total 5 columns):\n",
      " #   Column        Non-Null Count  Dtype \n",
      "---  ------        --------------  ----- \n",
      " 0   artist        382 non-null    object\n",
      " 1   title         382 non-null    object\n",
      " 2   lyrics        382 non-null    object\n",
      " 3   description   382 non-null    object\n",
      " 4   release date  373 non-null    object\n",
      "dtypes: object(5)\n",
      "memory usage: 17.9+ KB\n"
     ]
    }
   ],
   "source": [
    "# Original data description \n",
    "df.info()"
   ]
  },
  {
   "cell_type": "code",
   "execution_count": 184,
   "id": "222a73f5",
   "metadata": {},
   "outputs": [
    {
     "name": "stdout",
     "output_type": "stream",
     "text": [
      "<class 'pandas.core.frame.DataFrame'>\n",
      "Int64Index: 316 entries, 0 to 384\n",
      "Data columns (total 5 columns):\n",
      " #   Column        Non-Null Count  Dtype \n",
      "---  ------        --------------  ----- \n",
      " 0   artist        316 non-null    object\n",
      " 1   title         316 non-null    object\n",
      " 2   lyrics        316 non-null    object\n",
      " 3   description   316 non-null    object\n",
      " 4   release date  313 non-null    object\n",
      "dtypes: object(5)\n",
      "memory usage: 14.8+ KB\n"
     ]
    }
   ],
   "source": [
    "# Nonempty description data\n",
    "data.info()"
   ]
  },
  {
   "cell_type": "markdown",
   "id": "a7a94951",
   "metadata": {},
   "source": [
    "# Data Cleaning\n",
    "\n",
    "\n",
    "### Cleaning `lyrics`, `artist`, and `title`  \n",
    "In this section we are removing any unecessary text found in the lyrics column. In addition, we are lowercasing all other textual columns. "
   ]
  },
  {
   "cell_type": "code",
   "execution_count": 201,
   "id": "f9ff62cf",
   "metadata": {},
   "outputs": [],
   "source": [
    "def clean_lyrics(test_str):\n",
    "    \n",
    "    test_str = str(test_str)\n",
    "    # 0) Removing apostrophes for tokenization purposes\n",
    "    test_str = test_str.lower().replace(\"'\", \"\")\n",
    "    \n",
    "    # 1) Removing unecessary textual data \n",
    "    res = re.search(r'lyrics' , test_str)\n",
    "    emb_res = re.search(r'\\d*embed$', test_str)\n",
    "\n",
    "    test_str = test_str[res.end():emb_res.start()]\n",
    "\n",
    "    # 2) Removing any punctuation (except parantheses)\n",
    "    test_str = re.sub(r'[.,\\-?:!;]', '', test_str)\n",
    "\n",
    "    return test_str"
   ]
  },
  {
   "cell_type": "code",
   "execution_count": 202,
   "id": "e1165e4a",
   "metadata": {},
   "outputs": [],
   "source": [
    "df['lyrics'] = df['lyrics'].apply(clean_lyrics)\n",
    "df['artist'] = df['artist'].str.lower()\n",
    "df['title'] = df['title'].str.lower()"
   ]
  },
  {
   "cell_type": "code",
   "execution_count": 203,
   "id": "1f4c88bc",
   "metadata": {},
   "outputs": [
    {
     "data": {
      "text/html": [
       "<div>\n",
       "<style scoped>\n",
       "    .dataframe tbody tr th:only-of-type {\n",
       "        vertical-align: middle;\n",
       "    }\n",
       "\n",
       "    .dataframe tbody tr th {\n",
       "        vertical-align: top;\n",
       "    }\n",
       "\n",
       "    .dataframe thead th {\n",
       "        text-align: right;\n",
       "    }\n",
       "</style>\n",
       "<table border=\"1\" class=\"dataframe\">\n",
       "  <thead>\n",
       "    <tr style=\"text-align: right;\">\n",
       "      <th></th>\n",
       "      <th>artist</th>\n",
       "      <th>title</th>\n",
       "      <th>lyrics</th>\n",
       "      <th>description</th>\n",
       "      <th>release date</th>\n",
       "    </tr>\n",
       "  </thead>\n",
       "  <tbody>\n",
       "    <tr>\n",
       "      <th>0</th>\n",
       "      <td>ray charles</td>\n",
       "      <td>hit the road jack</td>\n",
       "      <td>\\nhit the road jack and doncha come back\\nno m...</td>\n",
       "      <td>This tongue and cheek verbal duel of a couple ...</td>\n",
       "      <td>August 1961</td>\n",
       "    </tr>\n",
       "    <tr>\n",
       "      <th>1</th>\n",
       "      <td>ray charles</td>\n",
       "      <td>georgia on my mind</td>\n",
       "      <td>\\ngeorgia\\ngeorgia\\nthe whole day through\\n(th...</td>\n",
       "      <td>Written by Hoagy Carmichael and Stuart Gorrell...</td>\n",
       "      <td>September 1960</td>\n",
       "    </tr>\n",
       "    <tr>\n",
       "      <th>2</th>\n",
       "      <td>ray charles</td>\n",
       "      <td>i’ve got a woman</td>\n",
       "      <td>\\nwell\\n\\ni got a woman way over town\\nthats g...</td>\n",
       "      <td>Ray Charles released “I’ve Got a Woman” as a s...</td>\n",
       "      <td>December 1954</td>\n",
       "    </tr>\n",
       "    <tr>\n",
       "      <th>3</th>\n",
       "      <td>ray charles</td>\n",
       "      <td>i can’t stop loving you</td>\n",
       "      <td>\\n(i cant stop loving you)\\nive made up my min...</td>\n",
       "      <td>?</td>\n",
       "      <td>1962</td>\n",
       "    </tr>\n",
       "    <tr>\n",
       "      <th>4</th>\n",
       "      <td>ken nordine</td>\n",
       "      <td>yellow</td>\n",
       "      <td>in the beginning\\noh long before that\\nwhen li...</td>\n",
       "      <td>?</td>\n",
       "      <td>January 1, 1966</td>\n",
       "    </tr>\n",
       "    <tr>\n",
       "      <th>...</th>\n",
       "      <td>...</td>\n",
       "      <td>...</td>\n",
       "      <td>...</td>\n",
       "      <td>...</td>\n",
       "      <td>...</td>\n",
       "    </tr>\n",
       "    <tr>\n",
       "      <th>380</th>\n",
       "      <td>raveena</td>\n",
       "      <td>temptation</td>\n",
       "      <td>ahahah\\nahahah\\n\\nmiss temptation i dont think...</td>\n",
       "      <td>In “Temptation”, Raveena opens up about her bi...</td>\n",
       "      <td>October 23, 2018</td>\n",
       "    </tr>\n",
       "    <tr>\n",
       "      <th>381</th>\n",
       "      <td>the notorious b.i.g.</td>\n",
       "      <td>juicy</td>\n",
       "      <td>\\n(\"fuck all you hoes\" get a grip motherfucker...</td>\n",
       "      <td>“Juicy” is the first single from Big’s debut a...</td>\n",
       "      <td>August 9, 1994</td>\n",
       "    </tr>\n",
       "    <tr>\n",
       "      <th>382</th>\n",
       "      <td>the notorious b.i.g.</td>\n",
       "      <td>big poppa</td>\n",
       "      <td>\\nuh uh check it out (yeah) uh\\njunior mafia u...</td>\n",
       "      <td>“Big Poppa” was The Notorious B.I.G.’s first t...</td>\n",
       "      <td>February 20, 1995</td>\n",
       "    </tr>\n",
       "    <tr>\n",
       "      <th>383</th>\n",
       "      <td>the notorious b.i.g.</td>\n",
       "      <td>suicidal thoughts</td>\n",
       "      <td>\\nhello\\naw shit nigga the fuck time is it man...</td>\n",
       "      <td>In this final track off of The Notorious B.I.G...</td>\n",
       "      <td>September 13, 1994</td>\n",
       "    </tr>\n",
       "    <tr>\n",
       "      <th>384</th>\n",
       "      <td>the notorious b.i.g.</td>\n",
       "      <td>hypnotize</td>\n",
       "      <td>\\nuh uh (uh come on)\\n\\nha sicker than your av...</td>\n",
       "      <td>Biggie’s first number one hit “Hypnotize” was ...</td>\n",
       "      <td>March 1, 1997</td>\n",
       "    </tr>\n",
       "  </tbody>\n",
       "</table>\n",
       "<p>382 rows × 5 columns</p>\n",
       "</div>"
      ],
      "text/plain": [
       "                   artist                    title  \\\n",
       "0             ray charles        hit the road jack   \n",
       "1             ray charles       georgia on my mind   \n",
       "2             ray charles         i’ve got a woman   \n",
       "3             ray charles  i can’t stop loving you   \n",
       "4             ken nordine                   yellow   \n",
       "..                    ...                      ...   \n",
       "380               raveena               temptation   \n",
       "381  the notorious b.i.g.                    juicy   \n",
       "382  the notorious b.i.g.                big poppa   \n",
       "383  the notorious b.i.g.        suicidal thoughts   \n",
       "384  the notorious b.i.g.                hypnotize   \n",
       "\n",
       "                                                lyrics  \\\n",
       "0    \\nhit the road jack and doncha come back\\nno m...   \n",
       "1    \\ngeorgia\\ngeorgia\\nthe whole day through\\n(th...   \n",
       "2    \\nwell\\n\\ni got a woman way over town\\nthats g...   \n",
       "3    \\n(i cant stop loving you)\\nive made up my min...   \n",
       "4    in the beginning\\noh long before that\\nwhen li...   \n",
       "..                                                 ...   \n",
       "380  ahahah\\nahahah\\n\\nmiss temptation i dont think...   \n",
       "381  \\n(\"fuck all you hoes\" get a grip motherfucker...   \n",
       "382  \\nuh uh check it out (yeah) uh\\njunior mafia u...   \n",
       "383  \\nhello\\naw shit nigga the fuck time is it man...   \n",
       "384  \\nuh uh (uh come on)\\n\\nha sicker than your av...   \n",
       "\n",
       "                                           description        release date  \n",
       "0    This tongue and cheek verbal duel of a couple ...         August 1961  \n",
       "1    Written by Hoagy Carmichael and Stuart Gorrell...      September 1960  \n",
       "2    Ray Charles released “I’ve Got a Woman” as a s...       December 1954  \n",
       "3                                                    ?                1962  \n",
       "4                                                    ?     January 1, 1966  \n",
       "..                                                 ...                 ...  \n",
       "380  In “Temptation”, Raveena opens up about her bi...    October 23, 2018  \n",
       "381  “Juicy” is the first single from Big’s debut a...      August 9, 1994  \n",
       "382  “Big Poppa” was The Notorious B.I.G.’s first t...   February 20, 1995  \n",
       "383  In this final track off of The Notorious B.I.G...  September 13, 1994  \n",
       "384  Biggie’s first number one hit “Hypnotize” was ...       March 1, 1997  \n",
       "\n",
       "[382 rows x 5 columns]"
      ]
     },
     "execution_count": 203,
     "metadata": {},
     "output_type": "execute_result"
    }
   ],
   "source": [
    "df"
   ]
  }
 ],
 "metadata": {
  "kernelspec": {
   "display_name": "Python 3",
   "language": "python",
   "name": "python3"
  },
  "language_info": {
   "codemirror_mode": {
    "name": "ipython",
    "version": 3
   },
   "file_extension": ".py",
   "mimetype": "text/x-python",
   "name": "python",
   "nbconvert_exporter": "python",
   "pygments_lexer": "ipython3",
   "version": "3.8.8"
  }
 },
 "nbformat": 4,
 "nbformat_minor": 5
}
